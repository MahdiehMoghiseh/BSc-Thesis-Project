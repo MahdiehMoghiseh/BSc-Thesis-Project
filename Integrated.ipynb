{
 "cells": [
  {
   "cell_type": "code",
   "execution_count": 7,
   "metadata": {
    "id": "Kd9-F82ewt4u"
   },
   "outputs": [],
   "source": [
    "import numpy as np\n",
    "import pandas as pd\n",
    "import os\n",
    "from matplotlib import gridspec\n",
    "import numpy as np\n",
    "from tqdm.notebook import tqdm\n",
    "from tensorflow.keras.layers import Input, Dense, Flatten, Reshape\n",
    "from tensorflow.keras.optimizers import Adam\n",
    "\n",
    "import matplotlib.pyplot as plt\n",
    "\n",
    "from sklearn.model_selection import train_test_split\n",
    "from sklearn.preprocessing import normalize\n",
    "from sklearn.metrics import confusion_matrix\n",
    "\n",
    "import keras\n",
    "import tensorflow as tf\n",
    "from keras.models import Sequential\n",
    "from keras.layers import Dense\n",
    "\n",
    "from keras import backend as K\n",
    "from keras.layers import Conv2D, MaxPooling2D, Dropout, Flatten, BatchNormalization\n",
    "\n",
    "from keras.callbacks import ModelCheckpoint\n",
    "from tensorflow.keras.layers import Input, Conv1D, Conv1DTranspose, Flatten, Dense, Reshape, BatchNormalization, Activation\n",
    "from tensorflow.keras.models import Model\n",
    "import torch\n",
    "import torch.nn as nn\n",
    "import torch.optim as optim\n",
    "from torch.utils.data import DataLoader, TensorDataset"
   ]
  },
  {
   "cell_type": "code",
   "execution_count": 9,
   "metadata": {
    "id": "55j1N-_ywyRH"
   },
   "outputs": [],
   "source": [
    "def averaged_by_N_rows(a, n):\n",
    "    \"\"\"\n",
    "    A function that averages n rows in a matrix\n",
    "    \"\"\"\n",
    "    shape = a.shape\n",
    "    assert len(shape) == 2\n",
    "    assert shape[0] % n == 0\n",
    "    b = a.reshape(shape[0] // n, n,\n",
    "                  shape[1])\n",
    "    mean_vec = b.mean(axis=1)\n",
    "    return mean_vec"
   ]
  },
  {
   "cell_type": "code",
   "execution_count": 10,
   "metadata": {
    "colab": {
     "base_uri": "https://localhost:8080/"
    },
    "id": "1dG11lj5wzVj",
    "outputId": "ac2a486b-5b48-4646-fcf5-731f86b7513a"
   },
   "outputs": [
    {
     "name": "stdout",
     "output_type": "stream",
     "text": [
      "Requirement already satisfied: mne in /Library/Frameworks/Python.framework/Versions/3.12/lib/python3.12/site-packages (1.8.0)\n",
      "Requirement already satisfied: decorator in /Library/Frameworks/Python.framework/Versions/3.12/lib/python3.12/site-packages (from mne) (5.1.1)\n",
      "Requirement already satisfied: jinja2 in /Library/Frameworks/Python.framework/Versions/3.12/lib/python3.12/site-packages (from mne) (3.1.2)\n",
      "Requirement already satisfied: lazy-loader>=0.3 in /Library/Frameworks/Python.framework/Versions/3.12/lib/python3.12/site-packages (from mne) (0.3)\n",
      "Requirement already satisfied: matplotlib>=3.6 in /Library/Frameworks/Python.framework/Versions/3.12/lib/python3.12/site-packages (from mne) (3.8.2)\n",
      "Requirement already satisfied: numpy<3,>=1.23 in /Library/Frameworks/Python.framework/Versions/3.12/lib/python3.12/site-packages (from mne) (1.26.2)\n",
      "Requirement already satisfied: packaging in /Library/Frameworks/Python.framework/Versions/3.12/lib/python3.12/site-packages (from mne) (23.2)\n",
      "Requirement already satisfied: pooch>=1.5 in /Library/Frameworks/Python.framework/Versions/3.12/lib/python3.12/site-packages (from mne) (1.8.0)\n",
      "Requirement already satisfied: scipy>=1.9 in /Library/Frameworks/Python.framework/Versions/3.12/lib/python3.12/site-packages (from mne) (1.11.4)\n",
      "Requirement already satisfied: tqdm in /Library/Frameworks/Python.framework/Versions/3.12/lib/python3.12/site-packages (from mne) (4.66.1)\n",
      "Requirement already satisfied: contourpy>=1.0.1 in /Library/Frameworks/Python.framework/Versions/3.12/lib/python3.12/site-packages (from matplotlib>=3.6->mne) (1.2.0)\n",
      "Requirement already satisfied: cycler>=0.10 in /Library/Frameworks/Python.framework/Versions/3.12/lib/python3.12/site-packages (from matplotlib>=3.6->mne) (0.12.1)\n",
      "Requirement already satisfied: fonttools>=4.22.0 in /Library/Frameworks/Python.framework/Versions/3.12/lib/python3.12/site-packages (from matplotlib>=3.6->mne) (4.46.0)\n",
      "Requirement already satisfied: kiwisolver>=1.3.1 in /Library/Frameworks/Python.framework/Versions/3.12/lib/python3.12/site-packages (from matplotlib>=3.6->mne) (1.4.5)\n",
      "Requirement already satisfied: pillow>=8 in /Library/Frameworks/Python.framework/Versions/3.12/lib/python3.12/site-packages (from matplotlib>=3.6->mne) (10.1.0)\n",
      "Requirement already satisfied: pyparsing>=2.3.1 in /Library/Frameworks/Python.framework/Versions/3.12/lib/python3.12/site-packages (from matplotlib>=3.6->mne) (3.1.1)\n",
      "Requirement already satisfied: python-dateutil>=2.7 in /Library/Frameworks/Python.framework/Versions/3.12/lib/python3.12/site-packages (from matplotlib>=3.6->mne) (2.8.2)\n",
      "Requirement already satisfied: platformdirs>=2.5.0 in /Library/Frameworks/Python.framework/Versions/3.12/lib/python3.12/site-packages (from pooch>=1.5->mne) (4.1.0)\n",
      "Requirement already satisfied: requests>=2.19.0 in /Library/Frameworks/Python.framework/Versions/3.12/lib/python3.12/site-packages (from pooch>=1.5->mne) (2.31.0)\n",
      "Requirement already satisfied: MarkupSafe>=2.0 in /Library/Frameworks/Python.framework/Versions/3.12/lib/python3.12/site-packages (from jinja2->mne) (2.1.3)\n",
      "Requirement already satisfied: six>=1.5 in /Library/Frameworks/Python.framework/Versions/3.12/lib/python3.12/site-packages (from python-dateutil>=2.7->matplotlib>=3.6->mne) (1.16.0)\n",
      "Requirement already satisfied: charset-normalizer<4,>=2 in /Library/Frameworks/Python.framework/Versions/3.12/lib/python3.12/site-packages (from requests>=2.19.0->pooch>=1.5->mne) (3.3.2)\n",
      "Requirement already satisfied: idna<4,>=2.5 in /Library/Frameworks/Python.framework/Versions/3.12/lib/python3.12/site-packages (from requests>=2.19.0->pooch>=1.5->mne) (3.6)\n",
      "Requirement already satisfied: urllib3<3,>=1.21.1 in /Library/Frameworks/Python.framework/Versions/3.12/lib/python3.12/site-packages (from requests>=2.19.0->pooch>=1.5->mne) (2.1.0)\n",
      "Requirement already satisfied: certifi>=2017.4.17 in /Library/Frameworks/Python.framework/Versions/3.12/lib/python3.12/site-packages (from requests>=2.19.0->pooch>=1.5->mne) (2023.11.17)\n",
      "\n",
      "\u001b[1m[\u001b[0m\u001b[34;49mnotice\u001b[0m\u001b[1;39;49m]\u001b[0m\u001b[39;49m A new release of pip is available: \u001b[0m\u001b[31;49m23.3.2\u001b[0m\u001b[39;49m -> \u001b[0m\u001b[32;49m24.2\u001b[0m\n",
      "\u001b[1m[\u001b[0m\u001b[34;49mnotice\u001b[0m\u001b[1;39;49m]\u001b[0m\u001b[39;49m To update, run: \u001b[0m\u001b[32;49mpip install --upgrade pip\u001b[0m\n"
     ]
    }
   ],
   "source": [
    "!pip install mne"
   ]
  },
  {
   "cell_type": "code",
   "execution_count": 11,
   "metadata": {
    "colab": {
     "base_uri": "https://localhost:8080/"
    },
    "id": "GA_qhPMKw51u",
    "outputId": "4ff80184-bd53-43b9-e91e-fc32ca0e3c9a"
   },
   "outputs": [
    {
     "name": "stdout",
     "output_type": "stream",
     "text": [
      "Processing file: ./data/1.csv\n",
      "Not setting metadata\n",
      "289 matching events found\n",
      "No baseline correction applied\n",
      "0 projection items activated\n",
      "<EpochsArray | 289 events (all good), -1.5 – 1.499 s (baseline off), ~440.3 MB, data loaded,\n",
      " 'button_tone': 100\n",
      " 'playback_tone': 94\n",
      " 'button_alone': 95>\n",
      "Processing file: ./data/2.csv\n",
      "Not setting metadata\n",
      "298 matching events found\n",
      "No baseline correction applied\n",
      "0 projection items activated\n",
      "<EpochsArray | 298 events (all good), -1.5 – 1.499 s (baseline off), ~454.1 MB, data loaded,\n",
      " 'button_tone': 100\n",
      " 'playback_tone': 98\n",
      " 'button_alone': 100>\n",
      "Processing file: ./data/3.csv\n",
      "Not setting metadata\n",
      "287 matching events found\n",
      "No baseline correction applied\n",
      "0 projection items activated\n",
      "<EpochsArray | 287 events (all good), -1.5 – 1.499 s (baseline off), ~437.3 MB, data loaded,\n",
      " 'button_tone': 98\n",
      " 'playback_tone': 95\n",
      " 'button_alone': 94>\n",
      "Processing file: ./data/4.csv\n",
      "Not setting metadata\n",
      "288 matching events found\n",
      "No baseline correction applied\n",
      "0 projection items activated\n",
      "<EpochsArray | 288 events (all good), -1.5 – 1.499 s (baseline off), ~438.8 MB, data loaded,\n",
      " 'button_tone': 98\n",
      " 'playback_tone': 91\n",
      " 'button_alone': 99>\n",
      "Processing file: ./data/5.csv\n",
      "Not setting metadata\n",
      "290 matching events found\n",
      "No baseline correction applied\n",
      "0 projection items activated\n",
      "<EpochsArray | 290 events (all good), -1.5 – 1.499 s (baseline off), ~441.9 MB, data loaded,\n",
      " 'button_tone': 100\n",
      " 'playback_tone': 97\n",
      " 'button_alone': 93>\n",
      "Processing file: ./data/6.csv\n",
      "Not setting metadata\n",
      "281 matching events found\n",
      "No baseline correction applied\n",
      "0 projection items activated\n",
      "<EpochsArray | 281 events (all good), -1.5 – 1.499 s (baseline off), ~428.2 MB, data loaded,\n",
      " 'button_tone': 86\n",
      " 'playback_tone': 95\n",
      " 'button_alone': 100>\n",
      "Processing file: ./data/7.csv\n",
      "Not setting metadata\n",
      "288 matching events found\n",
      "No baseline correction applied\n",
      "0 projection items activated\n",
      "<EpochsArray | 288 events (all good), -1.5 – 1.499 s (baseline off), ~438.8 MB, data loaded,\n",
      " 'button_tone': 95\n",
      " 'playback_tone': 94\n",
      " 'button_alone': 99>\n",
      "Processing file: ./data/8.csv\n",
      "Not setting metadata\n",
      "287 matching events found\n",
      "No baseline correction applied\n",
      "0 projection items activated\n",
      "<EpochsArray | 287 events (all good), -1.5 – 1.499 s (baseline off), ~437.3 MB, data loaded,\n",
      " 'button_tone': 95\n",
      " 'playback_tone': 95\n",
      " 'button_alone': 97>\n",
      "Processing file: ./data/9.csv\n",
      "Not setting metadata\n",
      "282 matching events found\n",
      "No baseline correction applied\n",
      "0 projection items activated\n",
      "<EpochsArray | 282 events (all good), -1.5 – 1.499 s (baseline off), ~429.7 MB, data loaded,\n",
      " 'button_tone': 92\n",
      " 'playback_tone': 91\n",
      " 'button_alone': 99>\n",
      "Processing file: ./data/10.csv\n",
      "Not setting metadata\n",
      "294 matching events found\n",
      "No baseline correction applied\n",
      "0 projection items activated\n",
      "<EpochsArray | 294 events (all good), -1.5 – 1.499 s (baseline off), ~448.0 MB, data loaded,\n",
      " 'button_tone': 99\n",
      " 'playback_tone': 95\n",
      " 'button_alone': 100>\n",
      "Processing file: ./data/11.csv\n",
      "Not setting metadata\n",
      "287 matching events found\n",
      "No baseline correction applied\n",
      "0 projection items activated\n",
      "<EpochsArray | 287 events (all good), -1.5 – 1.499 s (baseline off), ~437.3 MB, data loaded,\n",
      " 'button_tone': 94\n",
      " 'playback_tone': 94\n",
      " 'button_alone': 99>\n",
      "Processing file: ./data/12.csv\n",
      "Not setting metadata\n",
      "290 matching events found\n",
      "No baseline correction applied\n",
      "0 projection items activated\n",
      "<EpochsArray | 290 events (all good), -1.5 – 1.499 s (baseline off), ~441.9 MB, data loaded,\n",
      " 'button_tone': 99\n",
      " 'playback_tone': 95\n",
      " 'button_alone': 96>\n",
      "Processing file: ./data/13.csv\n",
      "Not setting metadata\n",
      "292 matching events found\n",
      "No baseline correction applied\n",
      "0 projection items activated\n",
      "<EpochsArray | 292 events (all good), -1.5 – 1.499 s (baseline off), ~444.9 MB, data loaded,\n",
      " 'button_tone': 97\n",
      " 'playback_tone': 98\n",
      " 'button_alone': 97>\n",
      "Processing file: ./data/14.csv\n",
      "Not setting metadata\n",
      "292 matching events found\n",
      "No baseline correction applied\n",
      "0 projection items activated\n",
      "<EpochsArray | 292 events (all good), -1.5 – 1.499 s (baseline off), ~444.9 MB, data loaded,\n",
      " 'button_tone': 100\n",
      " 'playback_tone': 94\n",
      " 'button_alone': 98>\n",
      "Processing file: ./data/15.csv\n",
      "Not setting metadata\n",
      "289 matching events found\n",
      "No baseline correction applied\n",
      "0 projection items activated\n",
      "<EpochsArray | 289 events (all good), -1.5 – 1.499 s (baseline off), ~440.3 MB, data loaded,\n",
      " 'button_tone': 93\n",
      " 'playback_tone': 96\n",
      " 'button_alone': 100>\n",
      "Processing file: ./data/16.csv\n",
      "Not setting metadata\n",
      "289 matching events found\n",
      "No baseline correction applied\n",
      "0 projection items activated\n",
      "<EpochsArray | 289 events (all good), -1.5 – 1.499 s (baseline off), ~440.3 MB, data loaded,\n",
      " 'button_tone': 97\n",
      " 'playback_tone': 93\n",
      " 'button_alone': 99>\n",
      "Processing file: ./data/17.csv\n",
      "Not setting metadata\n",
      "275 matching events found\n",
      "No baseline correction applied\n",
      "0 projection items activated\n",
      "<EpochsArray | 275 events (all good), -1.5 – 1.499 s (baseline off), ~419.0 MB, data loaded,\n",
      " 'button_tone': 94\n",
      " 'playback_tone': 88\n",
      " 'button_alone': 93>\n",
      "Processing file: ./data/18.csv\n",
      "Not setting metadata\n",
      "280 matching events found\n",
      "No baseline correction applied\n",
      "0 projection items activated\n",
      "<EpochsArray | 280 events (all good), -1.5 – 1.499 s (baseline off), ~426.6 MB, data loaded,\n",
      " 'button_tone': 95\n",
      " 'playback_tone': 90\n",
      " 'button_alone': 95>\n",
      "Processing file: ./data/19.csv\n",
      "Not setting metadata\n",
      "295 matching events found\n",
      "No baseline correction applied\n",
      "0 projection items activated\n",
      "<EpochsArray | 295 events (all good), -1.5 – 1.499 s (baseline off), ~449.5 MB, data loaded,\n",
      " 'button_tone': 100\n",
      " 'playback_tone': 98\n",
      " 'button_alone': 97>\n",
      "Processing file: ./data/20.csv\n",
      "Not setting metadata\n",
      "290 matching events found\n",
      "No baseline correction applied\n",
      "0 projection items activated\n",
      "<EpochsArray | 290 events (all good), -1.5 – 1.499 s (baseline off), ~441.9 MB, data loaded,\n",
      " 'button_tone': 97\n",
      " 'playback_tone': 97\n",
      " 'button_alone': 96>\n",
      "Processing file: ./data/21.csv\n",
      "Not setting metadata\n",
      "293 matching events found\n",
      "No baseline correction applied\n",
      "0 projection items activated\n",
      "<EpochsArray | 293 events (all good), -1.5 – 1.499 s (baseline off), ~446.4 MB, data loaded,\n",
      " 'button_tone': 100\n",
      " 'playback_tone': 96\n",
      " 'button_alone': 97>\n",
      "Processing file: ./data/22.csv\n",
      "Not setting metadata\n",
      "290 matching events found\n",
      "No baseline correction applied\n",
      "0 projection items activated\n",
      "<EpochsArray | 290 events (all good), -1.5 – 1.499 s (baseline off), ~441.9 MB, data loaded,\n",
      " 'button_tone': 100\n",
      " 'playback_tone': 93\n",
      " 'button_alone': 97>\n",
      "Processing file: ./data/23.csv\n",
      "Not setting metadata\n",
      "288 matching events found\n",
      "No baseline correction applied\n",
      "0 projection items activated\n",
      "<EpochsArray | 288 events (all good), -1.5 – 1.499 s (baseline off), ~438.8 MB, data loaded,\n",
      " 'button_tone': 100\n",
      " 'playback_tone': 88\n",
      " 'button_alone': 100>\n",
      "Processing file: ./data/24.csv\n",
      "Not setting metadata\n",
      "297 matching events found\n",
      "No baseline correction applied\n",
      "0 projection items activated\n",
      "<EpochsArray | 297 events (all good), -1.5 – 1.499 s (baseline off), ~452.5 MB, data loaded,\n",
      " 'button_tone': 99\n",
      " 'playback_tone': 98\n",
      " 'button_alone': 100>\n",
      "Processing file: ./data/25.csv\n",
      "Not setting metadata\n",
      "296 matching events found\n",
      "No baseline correction applied\n",
      "0 projection items activated\n",
      "<EpochsArray | 296 events (all good), -1.5 – 1.499 s (baseline off), ~451.0 MB, data loaded,\n",
      " 'button_tone': 100\n",
      " 'playback_tone': 96\n",
      " 'button_alone': 100>\n",
      "Processing file: ./data/26.csv\n",
      "Not setting metadata\n",
      "297 matching events found\n",
      "No baseline correction applied\n",
      "0 projection items activated\n",
      "<EpochsArray | 297 events (all good), -1.5 – 1.499 s (baseline off), ~452.5 MB, data loaded,\n",
      " 'button_tone': 100\n",
      " 'playback_tone': 97\n",
      " 'button_alone': 100>\n",
      "Processing file: ./data/27.csv\n",
      "Not setting metadata\n",
      "291 matching events found\n",
      "No baseline correction applied\n",
      "0 projection items activated\n",
      "<EpochsArray | 291 events (all good), -1.5 – 1.499 s (baseline off), ~443.4 MB, data loaded,\n",
      " 'button_tone': 98\n",
      " 'playback_tone': 97\n",
      " 'button_alone': 96>\n",
      "Processing file: ./data/28.csv\n",
      "Not setting metadata\n",
      "289 matching events found\n",
      "No baseline correction applied\n",
      "0 projection items activated\n",
      "<EpochsArray | 289 events (all good), -1.5 – 1.499 s (baseline off), ~440.3 MB, data loaded,\n",
      " 'button_tone': 98\n",
      " 'playback_tone': 96\n",
      " 'button_alone': 95>\n",
      "Processing file: ./data/29.csv\n",
      "Not setting metadata\n",
      "286 matching events found\n",
      "No baseline correction applied\n",
      "0 projection items activated\n",
      "<EpochsArray | 286 events (all good), -1.5 – 1.499 s (baseline off), ~435.8 MB, data loaded,\n",
      " 'button_tone': 94\n",
      " 'playback_tone': 97\n",
      " 'button_alone': 95>\n"
     ]
    },
    {
     "data": {
      "text/plain": [
       "(8390, 65, 1024)"
      ]
     },
     "execution_count": 11,
     "metadata": {},
     "output_type": "execute_result"
    }
   ],
   "source": [
    "import pandas as pd\n",
    "import numpy as np\n",
    "import mne\n",
    "from glob import glob\n",
    "from sklearn.preprocessing import StandardScaler\n",
    "\n",
    "# Load column labels\n",
    "col_names = pd.read_csv('./data/columnLabels.csv')\n",
    "ch_names = list(col_names.columns[4:])\n",
    "\n",
    "# Define channel types\n",
    "ch_type = ['eeg'] * 64 + ['eog'] * 4 + ['misc'] + ['eeg']\n",
    "\n",
    "# Sampling rate\n",
    "sfreq = 1024\n",
    "\n",
    "# Read EEG standard montage\n",
    "montage = mne.channels.make_standard_montage('standard_1005')\n",
    "\n",
    "# Initialize required fields\n",
    "info = mne.create_info(ch_names, sfreq, ch_type)\n",
    "info.set_montage(montage)\n",
    "\n",
    "# Load demographics and create diagnosis dictionary\n",
    "demographics = pd.read_csv('./data/demographic.csv')\n",
    "diagnosis_dict = dict(zip(demographics.subject, demographics[\" group\"]))\n",
    "\n",
    "def create_mne_epoch_object(fname, info):\n",
    "    \"\"\"Create an MNE Epochs object from a CSV file.\"\"\"\n",
    "    info['description'] = 'dataset from ' + fname\n",
    "    tmin = -1.5\n",
    "    data = pd.read_csv(fname, header=None)\n",
    "    npdata = np.array(data)\n",
    "    onsets = np.array(np.where(npdata[:, 3] == 1537))\n",
    "    conditions = npdata[npdata[:, 3] == 1537, 2]\n",
    "    events = np.squeeze(np.dstack((onsets.flatten(), np.zeros(conditions.shape), conditions)))\n",
    "    EEGdata = npdata.reshape(len(conditions), 3072, 74)\n",
    "    EEGdata = EEGdata[:, :, 4:]  # Skip the first 4 columns (assuming they are non-EEG)\n",
    "    EEGdata = np.swapaxes(EEGdata, 1, 2)\n",
    "    event_id = dict(button_tone=1, playback_tone=2, button_alone=3)\n",
    "    custom_epochs = mne.EpochsArray(EEGdata, info=info, events=events.astype('int'), tmin=tmin, event_id=event_id)\n",
    "\n",
    "    # Select only the EEG channels\n",
    "    picks_eeg = mne.pick_types(custom_epochs.info, eeg=True, eog=False, misc=False)\n",
    "    custom_epochs = custom_epochs.pick(picks_eeg)\n",
    "\n",
    "    return custom_epochs\n",
    "\n",
    "# Process and analyze data for each subject\n",
    "subjects = range(1, 30)\n",
    "X = []\n",
    "y = []\n",
    "\n",
    "for subject in subjects:\n",
    "    fnames = glob(\"./data/%d.csv\" % subject)\n",
    "    if not fnames:\n",
    "        print(f\"No file found for subject {subject}\")\n",
    "        continue\n",
    "    fname = fnames[0]  # Access the first element of the list\n",
    "    print(f\"Processing file: {fname}\")\n",
    "    custom_epochs = create_mne_epoch_object(fname, info)\n",
    "    print(custom_epochs)\n",
    "    picks = mne.pick_types(custom_epochs.info, eeg=True)\n",
    "    custom_epochs.filter(2, 45, picks=picks, method='iir', n_jobs=-1, verbose=False)\n",
    "\n",
    "    # Assign the label based on the demographics file\n",
    "    y.extend([diagnosis_dict[subject]] * len(custom_epochs))\n",
    "\n",
    "    X.append(custom_epochs.crop(tmin=-0.7, tmax=0.299).get_data())\n",
    "\n",
    "if not X:\n",
    "    raise ValueError(\"No data found. Please check your file paths and ensure data files are available.\")\n",
    "\n",
    "X = np.concatenate(X)\n",
    "y = np.array(y)\n",
    "\n",
    "# Standardize the data\n",
    "scaler = StandardScaler()\n",
    "n_epochs, n_channels, n_times = X.shape\n",
    "X = X.reshape(n_epochs, -1)\n",
    "X = scaler.fit_transform(X)\n",
    "X = X.reshape(n_epochs, n_channels, n_times)  # Keep n_channels as it is after filtering for EEG\n",
    "X.shape"
   ]
  },
  {
   "cell_type": "code",
   "execution_count": 12,
   "metadata": {
    "id": "G-PujrUEw9Z8"
   },
   "outputs": [],
   "source": [
    "X_train, X_test, Y_train, Y_test = train_test_split(X, y, test_size=0.2, random_state=42)"
   ]
  },
  {
   "cell_type": "code",
   "execution_count": 13,
   "metadata": {
    "colab": {
     "base_uri": "https://localhost:8080/",
     "height": 826
    },
    "id": "Ju5DECm-xBSE",
    "outputId": "46aa61d0-a87e-4997-b0de-9ef2b1e16d45"
   },
   "outputs": [
    {
     "data": {
      "text/html": [
       "<pre style=\"white-space:pre;overflow-x:auto;line-height:normal;font-family:Menlo,'DejaVu Sans Mono',consolas,'Courier New',monospace\"><span style=\"font-weight: bold\">Model: \"functional_1\"</span>\n",
       "</pre>\n"
      ],
      "text/plain": [
       "\u001b[1mModel: \"functional_1\"\u001b[0m\n"
      ]
     },
     "metadata": {},
     "output_type": "display_data"
    },
    {
     "data": {
      "text/html": [
       "<pre style=\"white-space:pre;overflow-x:auto;line-height:normal;font-family:Menlo,'DejaVu Sans Mono',consolas,'Courier New',monospace\">┏━━━━━━━━━━━━━━━━━━━━━━━━━━━━━━━━━┳━━━━━━━━━━━━━━━━━━━━━━━━┳━━━━━━━━━━━━━━━┓\n",
       "┃<span style=\"font-weight: bold\"> Layer (type)                    </span>┃<span style=\"font-weight: bold\"> Output Shape           </span>┃<span style=\"font-weight: bold\">       Param # </span>┃\n",
       "┡━━━━━━━━━━━━━━━━━━━━━━━━━━━━━━━━━╇━━━━━━━━━━━━━━━━━━━━━━━━╇━━━━━━━━━━━━━━━┩\n",
       "│ input_layer (<span style=\"color: #0087ff; text-decoration-color: #0087ff\">InputLayer</span>)        │ (<span style=\"color: #00d7ff; text-decoration-color: #00d7ff\">None</span>, <span style=\"color: #00af00; text-decoration-color: #00af00\">65</span>, <span style=\"color: #00af00; text-decoration-color: #00af00\">1024</span>)       │             <span style=\"color: #00af00; text-decoration-color: #00af00\">0</span> │\n",
       "├─────────────────────────────────┼────────────────────────┼───────────────┤\n",
       "│ conv1d (<span style=\"color: #0087ff; text-decoration-color: #0087ff\">Conv1D</span>)                 │ (<span style=\"color: #00d7ff; text-decoration-color: #00d7ff\">None</span>, <span style=\"color: #00af00; text-decoration-color: #00af00\">33</span>, <span style=\"color: #00af00; text-decoration-color: #00af00\">64</span>)         │       <span style=\"color: #00af00; text-decoration-color: #00af00\">196,672</span> │\n",
       "├─────────────────────────────────┼────────────────────────┼───────────────┤\n",
       "│ batch_normalization             │ (<span style=\"color: #00d7ff; text-decoration-color: #00d7ff\">None</span>, <span style=\"color: #00af00; text-decoration-color: #00af00\">33</span>, <span style=\"color: #00af00; text-decoration-color: #00af00\">64</span>)         │           <span style=\"color: #00af00; text-decoration-color: #00af00\">256</span> │\n",
       "│ (<span style=\"color: #0087ff; text-decoration-color: #0087ff\">BatchNormalization</span>)            │                        │               │\n",
       "├─────────────────────────────────┼────────────────────────┼───────────────┤\n",
       "│ activation (<span style=\"color: #0087ff; text-decoration-color: #0087ff\">Activation</span>)         │ (<span style=\"color: #00d7ff; text-decoration-color: #00d7ff\">None</span>, <span style=\"color: #00af00; text-decoration-color: #00af00\">33</span>, <span style=\"color: #00af00; text-decoration-color: #00af00\">64</span>)         │             <span style=\"color: #00af00; text-decoration-color: #00af00\">0</span> │\n",
       "├─────────────────────────────────┼────────────────────────┼───────────────┤\n",
       "│ conv1d_1 (<span style=\"color: #0087ff; text-decoration-color: #0087ff\">Conv1D</span>)               │ (<span style=\"color: #00d7ff; text-decoration-color: #00d7ff\">None</span>, <span style=\"color: #00af00; text-decoration-color: #00af00\">17</span>, <span style=\"color: #00af00; text-decoration-color: #00af00\">32</span>)         │         <span style=\"color: #00af00; text-decoration-color: #00af00\">6,176</span> │\n",
       "├─────────────────────────────────┼────────────────────────┼───────────────┤\n",
       "│ batch_normalization_1           │ (<span style=\"color: #00d7ff; text-decoration-color: #00d7ff\">None</span>, <span style=\"color: #00af00; text-decoration-color: #00af00\">17</span>, <span style=\"color: #00af00; text-decoration-color: #00af00\">32</span>)         │           <span style=\"color: #00af00; text-decoration-color: #00af00\">128</span> │\n",
       "│ (<span style=\"color: #0087ff; text-decoration-color: #0087ff\">BatchNormalization</span>)            │                        │               │\n",
       "├─────────────────────────────────┼────────────────────────┼───────────────┤\n",
       "│ activation_1 (<span style=\"color: #0087ff; text-decoration-color: #0087ff\">Activation</span>)       │ (<span style=\"color: #00d7ff; text-decoration-color: #00d7ff\">None</span>, <span style=\"color: #00af00; text-decoration-color: #00af00\">17</span>, <span style=\"color: #00af00; text-decoration-color: #00af00\">32</span>)         │             <span style=\"color: #00af00; text-decoration-color: #00af00\">0</span> │\n",
       "├─────────────────────────────────┼────────────────────────┼───────────────┤\n",
       "│ flatten (<span style=\"color: #0087ff; text-decoration-color: #0087ff\">Flatten</span>)               │ (<span style=\"color: #00d7ff; text-decoration-color: #00d7ff\">None</span>, <span style=\"color: #00af00; text-decoration-color: #00af00\">544</span>)            │             <span style=\"color: #00af00; text-decoration-color: #00af00\">0</span> │\n",
       "├─────────────────────────────────┼────────────────────────┼───────────────┤\n",
       "│ dense (<span style=\"color: #0087ff; text-decoration-color: #0087ff\">Dense</span>)                   │ (<span style=\"color: #00d7ff; text-decoration-color: #00d7ff\">None</span>, <span style=\"color: #00af00; text-decoration-color: #00af00\">128</span>)            │        <span style=\"color: #00af00; text-decoration-color: #00af00\">69,760</span> │\n",
       "├─────────────────────────────────┼────────────────────────┼───────────────┤\n",
       "│ dense_1 (<span style=\"color: #0087ff; text-decoration-color: #0087ff\">Dense</span>)                 │ (<span style=\"color: #00d7ff; text-decoration-color: #00d7ff\">None</span>, <span style=\"color: #00af00; text-decoration-color: #00af00\">544</span>)            │        <span style=\"color: #00af00; text-decoration-color: #00af00\">70,176</span> │\n",
       "├─────────────────────────────────┼────────────────────────┼───────────────┤\n",
       "│ reshape (<span style=\"color: #0087ff; text-decoration-color: #0087ff\">Reshape</span>)               │ (<span style=\"color: #00d7ff; text-decoration-color: #00d7ff\">None</span>, <span style=\"color: #00af00; text-decoration-color: #00af00\">17</span>, <span style=\"color: #00af00; text-decoration-color: #00af00\">32</span>)         │             <span style=\"color: #00af00; text-decoration-color: #00af00\">0</span> │\n",
       "├─────────────────────────────────┼────────────────────────┼───────────────┤\n",
       "│ conv1d_transpose                │ (<span style=\"color: #00d7ff; text-decoration-color: #00d7ff\">None</span>, <span style=\"color: #00af00; text-decoration-color: #00af00\">34</span>, <span style=\"color: #00af00; text-decoration-color: #00af00\">64</span>)         │         <span style=\"color: #00af00; text-decoration-color: #00af00\">6,208</span> │\n",
       "│ (<span style=\"color: #0087ff; text-decoration-color: #0087ff\">Conv1DTranspose</span>)               │                        │               │\n",
       "├─────────────────────────────────┼────────────────────────┼───────────────┤\n",
       "│ batch_normalization_2           │ (<span style=\"color: #00d7ff; text-decoration-color: #00d7ff\">None</span>, <span style=\"color: #00af00; text-decoration-color: #00af00\">34</span>, <span style=\"color: #00af00; text-decoration-color: #00af00\">64</span>)         │           <span style=\"color: #00af00; text-decoration-color: #00af00\">256</span> │\n",
       "│ (<span style=\"color: #0087ff; text-decoration-color: #0087ff\">BatchNormalization</span>)            │                        │               │\n",
       "├─────────────────────────────────┼────────────────────────┼───────────────┤\n",
       "│ activation_2 (<span style=\"color: #0087ff; text-decoration-color: #0087ff\">Activation</span>)       │ (<span style=\"color: #00d7ff; text-decoration-color: #00d7ff\">None</span>, <span style=\"color: #00af00; text-decoration-color: #00af00\">34</span>, <span style=\"color: #00af00; text-decoration-color: #00af00\">64</span>)         │             <span style=\"color: #00af00; text-decoration-color: #00af00\">0</span> │\n",
       "├─────────────────────────────────┼────────────────────────┼───────────────┤\n",
       "│ conv1d_transpose_1              │ (<span style=\"color: #00d7ff; text-decoration-color: #00d7ff\">None</span>, <span style=\"color: #00af00; text-decoration-color: #00af00\">68</span>, <span style=\"color: #00af00; text-decoration-color: #00af00\">1024</span>)       │       <span style=\"color: #00af00; text-decoration-color: #00af00\">197,632</span> │\n",
       "│ (<span style=\"color: #0087ff; text-decoration-color: #0087ff\">Conv1DTranspose</span>)               │                        │               │\n",
       "├─────────────────────────────────┼────────────────────────┼───────────────┤\n",
       "│ batch_normalization_3           │ (<span style=\"color: #00d7ff; text-decoration-color: #00d7ff\">None</span>, <span style=\"color: #00af00; text-decoration-color: #00af00\">68</span>, <span style=\"color: #00af00; text-decoration-color: #00af00\">1024</span>)       │         <span style=\"color: #00af00; text-decoration-color: #00af00\">4,096</span> │\n",
       "│ (<span style=\"color: #0087ff; text-decoration-color: #0087ff\">BatchNormalization</span>)            │                        │               │\n",
       "├─────────────────────────────────┼────────────────────────┼───────────────┤\n",
       "│ cropping1d (<span style=\"color: #0087ff; text-decoration-color: #0087ff\">Cropping1D</span>)         │ (<span style=\"color: #00d7ff; text-decoration-color: #00d7ff\">None</span>, <span style=\"color: #00af00; text-decoration-color: #00af00\">65</span>, <span style=\"color: #00af00; text-decoration-color: #00af00\">1024</span>)       │             <span style=\"color: #00af00; text-decoration-color: #00af00\">0</span> │\n",
       "├─────────────────────────────────┼────────────────────────┼───────────────┤\n",
       "│ activation_3 (<span style=\"color: #0087ff; text-decoration-color: #0087ff\">Activation</span>)       │ (<span style=\"color: #00d7ff; text-decoration-color: #00d7ff\">None</span>, <span style=\"color: #00af00; text-decoration-color: #00af00\">65</span>, <span style=\"color: #00af00; text-decoration-color: #00af00\">1024</span>)       │             <span style=\"color: #00af00; text-decoration-color: #00af00\">0</span> │\n",
       "├─────────────────────────────────┼────────────────────────┼───────────────┤\n",
       "│ reshape_1 (<span style=\"color: #0087ff; text-decoration-color: #0087ff\">Reshape</span>)             │ (<span style=\"color: #00d7ff; text-decoration-color: #00d7ff\">None</span>, <span style=\"color: #00af00; text-decoration-color: #00af00\">65</span>, <span style=\"color: #00af00; text-decoration-color: #00af00\">1024</span>)       │             <span style=\"color: #00af00; text-decoration-color: #00af00\">0</span> │\n",
       "└─────────────────────────────────┴────────────────────────┴───────────────┘\n",
       "</pre>\n"
      ],
      "text/plain": [
       "┏━━━━━━━━━━━━━━━━━━━━━━━━━━━━━━━━━┳━━━━━━━━━━━━━━━━━━━━━━━━┳━━━━━━━━━━━━━━━┓\n",
       "┃\u001b[1m \u001b[0m\u001b[1mLayer (type)                   \u001b[0m\u001b[1m \u001b[0m┃\u001b[1m \u001b[0m\u001b[1mOutput Shape          \u001b[0m\u001b[1m \u001b[0m┃\u001b[1m \u001b[0m\u001b[1m      Param #\u001b[0m\u001b[1m \u001b[0m┃\n",
       "┡━━━━━━━━━━━━━━━━━━━━━━━━━━━━━━━━━╇━━━━━━━━━━━━━━━━━━━━━━━━╇━━━━━━━━━━━━━━━┩\n",
       "│ input_layer (\u001b[38;5;33mInputLayer\u001b[0m)        │ (\u001b[38;5;45mNone\u001b[0m, \u001b[38;5;34m65\u001b[0m, \u001b[38;5;34m1024\u001b[0m)       │             \u001b[38;5;34m0\u001b[0m │\n",
       "├─────────────────────────────────┼────────────────────────┼───────────────┤\n",
       "│ conv1d (\u001b[38;5;33mConv1D\u001b[0m)                 │ (\u001b[38;5;45mNone\u001b[0m, \u001b[38;5;34m33\u001b[0m, \u001b[38;5;34m64\u001b[0m)         │       \u001b[38;5;34m196,672\u001b[0m │\n",
       "├─────────────────────────────────┼────────────────────────┼───────────────┤\n",
       "│ batch_normalization             │ (\u001b[38;5;45mNone\u001b[0m, \u001b[38;5;34m33\u001b[0m, \u001b[38;5;34m64\u001b[0m)         │           \u001b[38;5;34m256\u001b[0m │\n",
       "│ (\u001b[38;5;33mBatchNormalization\u001b[0m)            │                        │               │\n",
       "├─────────────────────────────────┼────────────────────────┼───────────────┤\n",
       "│ activation (\u001b[38;5;33mActivation\u001b[0m)         │ (\u001b[38;5;45mNone\u001b[0m, \u001b[38;5;34m33\u001b[0m, \u001b[38;5;34m64\u001b[0m)         │             \u001b[38;5;34m0\u001b[0m │\n",
       "├─────────────────────────────────┼────────────────────────┼───────────────┤\n",
       "│ conv1d_1 (\u001b[38;5;33mConv1D\u001b[0m)               │ (\u001b[38;5;45mNone\u001b[0m, \u001b[38;5;34m17\u001b[0m, \u001b[38;5;34m32\u001b[0m)         │         \u001b[38;5;34m6,176\u001b[0m │\n",
       "├─────────────────────────────────┼────────────────────────┼───────────────┤\n",
       "│ batch_normalization_1           │ (\u001b[38;5;45mNone\u001b[0m, \u001b[38;5;34m17\u001b[0m, \u001b[38;5;34m32\u001b[0m)         │           \u001b[38;5;34m128\u001b[0m │\n",
       "│ (\u001b[38;5;33mBatchNormalization\u001b[0m)            │                        │               │\n",
       "├─────────────────────────────────┼────────────────────────┼───────────────┤\n",
       "│ activation_1 (\u001b[38;5;33mActivation\u001b[0m)       │ (\u001b[38;5;45mNone\u001b[0m, \u001b[38;5;34m17\u001b[0m, \u001b[38;5;34m32\u001b[0m)         │             \u001b[38;5;34m0\u001b[0m │\n",
       "├─────────────────────────────────┼────────────────────────┼───────────────┤\n",
       "│ flatten (\u001b[38;5;33mFlatten\u001b[0m)               │ (\u001b[38;5;45mNone\u001b[0m, \u001b[38;5;34m544\u001b[0m)            │             \u001b[38;5;34m0\u001b[0m │\n",
       "├─────────────────────────────────┼────────────────────────┼───────────────┤\n",
       "│ dense (\u001b[38;5;33mDense\u001b[0m)                   │ (\u001b[38;5;45mNone\u001b[0m, \u001b[38;5;34m128\u001b[0m)            │        \u001b[38;5;34m69,760\u001b[0m │\n",
       "├─────────────────────────────────┼────────────────────────┼───────────────┤\n",
       "│ dense_1 (\u001b[38;5;33mDense\u001b[0m)                 │ (\u001b[38;5;45mNone\u001b[0m, \u001b[38;5;34m544\u001b[0m)            │        \u001b[38;5;34m70,176\u001b[0m │\n",
       "├─────────────────────────────────┼────────────────────────┼───────────────┤\n",
       "│ reshape (\u001b[38;5;33mReshape\u001b[0m)               │ (\u001b[38;5;45mNone\u001b[0m, \u001b[38;5;34m17\u001b[0m, \u001b[38;5;34m32\u001b[0m)         │             \u001b[38;5;34m0\u001b[0m │\n",
       "├─────────────────────────────────┼────────────────────────┼───────────────┤\n",
       "│ conv1d_transpose                │ (\u001b[38;5;45mNone\u001b[0m, \u001b[38;5;34m34\u001b[0m, \u001b[38;5;34m64\u001b[0m)         │         \u001b[38;5;34m6,208\u001b[0m │\n",
       "│ (\u001b[38;5;33mConv1DTranspose\u001b[0m)               │                        │               │\n",
       "├─────────────────────────────────┼────────────────────────┼───────────────┤\n",
       "│ batch_normalization_2           │ (\u001b[38;5;45mNone\u001b[0m, \u001b[38;5;34m34\u001b[0m, \u001b[38;5;34m64\u001b[0m)         │           \u001b[38;5;34m256\u001b[0m │\n",
       "│ (\u001b[38;5;33mBatchNormalization\u001b[0m)            │                        │               │\n",
       "├─────────────────────────────────┼────────────────────────┼───────────────┤\n",
       "│ activation_2 (\u001b[38;5;33mActivation\u001b[0m)       │ (\u001b[38;5;45mNone\u001b[0m, \u001b[38;5;34m34\u001b[0m, \u001b[38;5;34m64\u001b[0m)         │             \u001b[38;5;34m0\u001b[0m │\n",
       "├─────────────────────────────────┼────────────────────────┼───────────────┤\n",
       "│ conv1d_transpose_1              │ (\u001b[38;5;45mNone\u001b[0m, \u001b[38;5;34m68\u001b[0m, \u001b[38;5;34m1024\u001b[0m)       │       \u001b[38;5;34m197,632\u001b[0m │\n",
       "│ (\u001b[38;5;33mConv1DTranspose\u001b[0m)               │                        │               │\n",
       "├─────────────────────────────────┼────────────────────────┼───────────────┤\n",
       "│ batch_normalization_3           │ (\u001b[38;5;45mNone\u001b[0m, \u001b[38;5;34m68\u001b[0m, \u001b[38;5;34m1024\u001b[0m)       │         \u001b[38;5;34m4,096\u001b[0m │\n",
       "│ (\u001b[38;5;33mBatchNormalization\u001b[0m)            │                        │               │\n",
       "├─────────────────────────────────┼────────────────────────┼───────────────┤\n",
       "│ cropping1d (\u001b[38;5;33mCropping1D\u001b[0m)         │ (\u001b[38;5;45mNone\u001b[0m, \u001b[38;5;34m65\u001b[0m, \u001b[38;5;34m1024\u001b[0m)       │             \u001b[38;5;34m0\u001b[0m │\n",
       "├─────────────────────────────────┼────────────────────────┼───────────────┤\n",
       "│ activation_3 (\u001b[38;5;33mActivation\u001b[0m)       │ (\u001b[38;5;45mNone\u001b[0m, \u001b[38;5;34m65\u001b[0m, \u001b[38;5;34m1024\u001b[0m)       │             \u001b[38;5;34m0\u001b[0m │\n",
       "├─────────────────────────────────┼────────────────────────┼───────────────┤\n",
       "│ reshape_1 (\u001b[38;5;33mReshape\u001b[0m)             │ (\u001b[38;5;45mNone\u001b[0m, \u001b[38;5;34m65\u001b[0m, \u001b[38;5;34m1024\u001b[0m)       │             \u001b[38;5;34m0\u001b[0m │\n",
       "└─────────────────────────────────┴────────────────────────┴───────────────┘\n"
      ]
     },
     "metadata": {},
     "output_type": "display_data"
    },
    {
     "data": {
      "text/html": [
       "<pre style=\"white-space:pre;overflow-x:auto;line-height:normal;font-family:Menlo,'DejaVu Sans Mono',consolas,'Courier New',monospace\"><span style=\"font-weight: bold\"> Total params: </span><span style=\"color: #00af00; text-decoration-color: #00af00\">551,360</span> (2.10 MB)\n",
       "</pre>\n"
      ],
      "text/plain": [
       "\u001b[1m Total params: \u001b[0m\u001b[38;5;34m551,360\u001b[0m (2.10 MB)\n"
      ]
     },
     "metadata": {},
     "output_type": "display_data"
    },
    {
     "data": {
      "text/html": [
       "<pre style=\"white-space:pre;overflow-x:auto;line-height:normal;font-family:Menlo,'DejaVu Sans Mono',consolas,'Courier New',monospace\"><span style=\"font-weight: bold\"> Trainable params: </span><span style=\"color: #00af00; text-decoration-color: #00af00\">548,992</span> (2.09 MB)\n",
       "</pre>\n"
      ],
      "text/plain": [
       "\u001b[1m Trainable params: \u001b[0m\u001b[38;5;34m548,992\u001b[0m (2.09 MB)\n"
      ]
     },
     "metadata": {},
     "output_type": "display_data"
    },
    {
     "data": {
      "text/html": [
       "<pre style=\"white-space:pre;overflow-x:auto;line-height:normal;font-family:Menlo,'DejaVu Sans Mono',consolas,'Courier New',monospace\"><span style=\"font-weight: bold\"> Non-trainable params: </span><span style=\"color: #00af00; text-decoration-color: #00af00\">2,368</span> (9.25 KB)\n",
       "</pre>\n"
      ],
      "text/plain": [
       "\u001b[1m Non-trainable params: \u001b[0m\u001b[38;5;34m2,368\u001b[0m (9.25 KB)\n"
      ]
     },
     "metadata": {},
     "output_type": "display_data"
    }
   ],
   "source": [
    "import numpy as np\n",
    "from tensorflow.keras.layers import Input, Conv1D, Conv1DTranspose, Flatten, Dense, Reshape, BatchNormalization, Activation, Cropping1D\n",
    "from tensorflow.keras.models import Model\n",
    "\n",
    "# Assuming X_train shape is (929, 65, 1024)\n",
    "# X_train = X_train / np.max(X_train)\n",
    "n_samples, n_channels, n_times = X_train.shape\n",
    "\n",
    "# Encoder\n",
    "input_layer = Input(shape=(n_channels, n_times))  # (65, 1024)\n",
    "x = Conv1D(filters=64, kernel_size=3, strides=2, padding='same')(input_layer)  # (65, 512)\n",
    "x = BatchNormalization()(x)\n",
    "x = Activation('relu')(x)\n",
    "\n",
    "x = Conv1D(filters=32, kernel_size=3, strides=2, padding='same')(x)  # (65, 256)\n",
    "x = BatchNormalization()(x)\n",
    "x = Activation('relu')(x)\n",
    "\n",
    "shape_before_flattening = x.shape[1:]  # (timesteps, 32)\n",
    "x = Flatten()(x)\n",
    "encoded = Dense(128, activation='relu')(x)  # Latent space\n",
    "\n",
    "# Decoder\n",
    "x = Dense(np.prod(shape_before_flattening))(encoded)\n",
    "x = Reshape(shape_before_flattening)(x)  # Reshape to (timesteps, 32)\n",
    "\n",
    "x = Conv1DTranspose(filters=64, kernel_size=3, strides=2, padding='same')(x)  # (65, 512)\n",
    "x = BatchNormalization()(x)\n",
    "x = Activation('relu')(x)\n",
    "\n",
    "x = Conv1DTranspose(filters=n_times, kernel_size=3, strides=2, padding='same')(x)  # (65, 1024)\n",
    "x = BatchNormalization()(x)\n",
    "\n",
    "\n",
    "if x.shape[1] > n_channels:\n",
    "    x = Cropping1D(cropping=(0, x.shape[1] - n_channels))(x)\n",
    "\n",
    "decoded = Activation('sigmoid')(x)\n",
    "\n",
    "\n",
    "decoded = Reshape((n_channels, n_times))(decoded)  # (65, 1024)\n",
    "\n",
    "# Autoencoder Model\n",
    "autoencoder = Model(input_layer, decoded)\n",
    "autoencoder.compile(optimizer=Adam(learning_rate=0.0001), loss='mse')\n",
    "# Display the model summary\n",
    "autoencoder.summary()"
   ]
  },
  {
   "cell_type": "code",
   "execution_count": 14,
   "metadata": {
    "colab": {
     "base_uri": "https://localhost:8080/"
    },
    "id": "EVZUSSzjxIm_",
    "outputId": "36e7e850-45c8-482e-b0d6-f9dcd78a51aa"
   },
   "outputs": [
    {
     "name": "stdout",
     "output_type": "stream",
     "text": [
      "Epoch 1/50\n",
      "\u001b[1m336/336\u001b[0m \u001b[32m━━━━━━━━━━━━━━━━━━━━\u001b[0m\u001b[37m\u001b[0m \u001b[1m19s\u001b[0m 49ms/step - loss: 1.2263 - val_loss: 1.2167\n",
      "Epoch 2/50\n",
      "\u001b[1m336/336\u001b[0m \u001b[32m━━━━━━━━━━━━━━━━━━━━\u001b[0m\u001b[37m\u001b[0m \u001b[1m8s\u001b[0m 23ms/step - loss: 1.1518 - val_loss: 1.1942\n",
      "Epoch 3/50\n",
      "\u001b[1m336/336\u001b[0m \u001b[32m━━━━━━━━━━━━━━━━━━━━\u001b[0m\u001b[37m\u001b[0m \u001b[1m7s\u001b[0m 21ms/step - loss: 1.1450 - val_loss: 1.1692\n",
      "Epoch 4/50\n",
      "\u001b[1m336/336\u001b[0m \u001b[32m━━━━━━━━━━━━━━━━━━━━\u001b[0m\u001b[37m\u001b[0m \u001b[1m7s\u001b[0m 21ms/step - loss: 1.1194 - val_loss: 1.1429\n",
      "Epoch 5/50\n",
      "\u001b[1m336/336\u001b[0m \u001b[32m━━━━━━━━━━━━━━━━━━━━\u001b[0m\u001b[37m\u001b[0m \u001b[1m7s\u001b[0m 21ms/step - loss: 1.0991 - val_loss: 1.1163\n",
      "Epoch 6/50\n",
      "\u001b[1m336/336\u001b[0m \u001b[32m━━━━━━━━━━━━━━━━━━━━\u001b[0m\u001b[37m\u001b[0m \u001b[1m7s\u001b[0m 21ms/step - loss: 1.0832 - val_loss: 1.0942\n",
      "Epoch 7/50\n",
      "\u001b[1m336/336\u001b[0m \u001b[32m━━━━━━━━━━━━━━━━━━━━\u001b[0m\u001b[37m\u001b[0m \u001b[1m7s\u001b[0m 20ms/step - loss: 1.0646 - val_loss: 1.0799\n",
      "Epoch 8/50\n",
      "\u001b[1m336/336\u001b[0m \u001b[32m━━━━━━━━━━━━━━━━━━━━\u001b[0m\u001b[37m\u001b[0m \u001b[1m7s\u001b[0m 21ms/step - loss: 1.0518 - val_loss: 1.0671\n",
      "Epoch 9/50\n",
      "\u001b[1m336/336\u001b[0m \u001b[32m━━━━━━━━━━━━━━━━━━━━\u001b[0m\u001b[37m\u001b[0m \u001b[1m7s\u001b[0m 21ms/step - loss: 1.0259 - val_loss: 1.0557\n",
      "Epoch 10/50\n",
      "\u001b[1m336/336\u001b[0m \u001b[32m━━━━━━━━━━━━━━━━━━━━\u001b[0m\u001b[37m\u001b[0m \u001b[1m7s\u001b[0m 21ms/step - loss: 1.0414 - val_loss: 1.0453\n",
      "Epoch 11/50\n",
      "\u001b[1m336/336\u001b[0m \u001b[32m━━━━━━━━━━━━━━━━━━━━\u001b[0m\u001b[37m\u001b[0m \u001b[1m7s\u001b[0m 20ms/step - loss: 1.0109 - val_loss: 1.0369\n",
      "Epoch 12/50\n",
      "\u001b[1m336/336\u001b[0m \u001b[32m━━━━━━━━━━━━━━━━━━━━\u001b[0m\u001b[37m\u001b[0m \u001b[1m7s\u001b[0m 21ms/step - loss: 0.9880 - val_loss: 1.0272\n",
      "Epoch 13/50\n",
      "\u001b[1m336/336\u001b[0m \u001b[32m━━━━━━━━━━━━━━━━━━━━\u001b[0m\u001b[37m\u001b[0m \u001b[1m7s\u001b[0m 21ms/step - loss: 1.0053 - val_loss: 1.0191\n",
      "Epoch 14/50\n",
      "\u001b[1m336/336\u001b[0m \u001b[32m━━━━━━━━━━━━━━━━━━━━\u001b[0m\u001b[37m\u001b[0m \u001b[1m7s\u001b[0m 21ms/step - loss: 0.9929 - val_loss: 1.0108\n",
      "Epoch 15/50\n",
      "\u001b[1m336/336\u001b[0m \u001b[32m━━━━━━━━━━━━━━━━━━━━\u001b[0m\u001b[37m\u001b[0m \u001b[1m7s\u001b[0m 22ms/step - loss: 0.9896 - val_loss: 1.0042\n",
      "Epoch 16/50\n",
      "\u001b[1m336/336\u001b[0m \u001b[32m━━━━━━━━━━━━━━━━━━━━\u001b[0m\u001b[37m\u001b[0m \u001b[1m7s\u001b[0m 22ms/step - loss: 0.9723 - val_loss: 0.9978\n",
      "Epoch 17/50\n",
      "\u001b[1m336/336\u001b[0m \u001b[32m━━━━━━━━━━━━━━━━━━━━\u001b[0m\u001b[37m\u001b[0m \u001b[1m7s\u001b[0m 21ms/step - loss: 0.9562 - val_loss: 0.9907\n",
      "Epoch 18/50\n",
      "\u001b[1m336/336\u001b[0m \u001b[32m━━━━━━━━━━━━━━━━━━━━\u001b[0m\u001b[37m\u001b[0m \u001b[1m7s\u001b[0m 21ms/step - loss: 0.9563 - val_loss: 0.9846\n",
      "Epoch 19/50\n",
      "\u001b[1m336/336\u001b[0m \u001b[32m━━━━━━━━━━━━━━━━━━━━\u001b[0m\u001b[37m\u001b[0m \u001b[1m7s\u001b[0m 21ms/step - loss: 0.9566 - val_loss: 0.9772\n",
      "Epoch 20/50\n",
      "\u001b[1m336/336\u001b[0m \u001b[32m━━━━━━━━━━━━━━━━━━━━\u001b[0m\u001b[37m\u001b[0m \u001b[1m7s\u001b[0m 21ms/step - loss: 0.9320 - val_loss: 0.9701\n",
      "Epoch 21/50\n",
      "\u001b[1m336/336\u001b[0m \u001b[32m━━━━━━━━━━━━━━━━━━━━\u001b[0m\u001b[37m\u001b[0m \u001b[1m7s\u001b[0m 22ms/step - loss: 0.9335 - val_loss: 0.9631\n",
      "Epoch 22/50\n",
      "\u001b[1m336/336\u001b[0m \u001b[32m━━━━━━━━━━━━━━━━━━━━\u001b[0m\u001b[37m\u001b[0m \u001b[1m7s\u001b[0m 22ms/step - loss: 0.9196 - val_loss: 0.9563\n",
      "Epoch 23/50\n",
      "\u001b[1m336/336\u001b[0m \u001b[32m━━━━━━━━━━━━━━━━━━━━\u001b[0m\u001b[37m\u001b[0m \u001b[1m8s\u001b[0m 22ms/step - loss: 0.9186 - val_loss: 0.9496\n",
      "Epoch 24/50\n",
      "\u001b[1m336/336\u001b[0m \u001b[32m━━━━━━━━━━━━━━━━━━━━\u001b[0m\u001b[37m\u001b[0m \u001b[1m7s\u001b[0m 22ms/step - loss: 0.9195 - val_loss: 0.9433\n",
      "Epoch 25/50\n",
      "\u001b[1m336/336\u001b[0m \u001b[32m━━━━━━━━━━━━━━━━━━━━\u001b[0m\u001b[37m\u001b[0m \u001b[1m7s\u001b[0m 22ms/step - loss: 0.9166 - val_loss: 0.9373\n",
      "Epoch 26/50\n",
      "\u001b[1m336/336\u001b[0m \u001b[32m━━━━━━━━━━━━━━━━━━━━\u001b[0m\u001b[37m\u001b[0m \u001b[1m7s\u001b[0m 22ms/step - loss: 0.8937 - val_loss: 0.9322\n",
      "Epoch 27/50\n",
      "\u001b[1m336/336\u001b[0m \u001b[32m━━━━━━━━━━━━━━━━━━━━\u001b[0m\u001b[37m\u001b[0m \u001b[1m8s\u001b[0m 22ms/step - loss: 0.8963 - val_loss: 0.9268\n",
      "Epoch 28/50\n",
      "\u001b[1m336/336\u001b[0m \u001b[32m━━━━━━━━━━━━━━━━━━━━\u001b[0m\u001b[37m\u001b[0m \u001b[1m8s\u001b[0m 22ms/step - loss: 0.8782 - val_loss: 0.9238\n",
      "Epoch 29/50\n",
      "\u001b[1m336/336\u001b[0m \u001b[32m━━━━━━━━━━━━━━━━━━━━\u001b[0m\u001b[37m\u001b[0m \u001b[1m7s\u001b[0m 22ms/step - loss: 0.8883 - val_loss: 0.9183\n",
      "Epoch 30/50\n",
      "\u001b[1m336/336\u001b[0m \u001b[32m━━━━━━━━━━━━━━━━━━━━\u001b[0m\u001b[37m\u001b[0m \u001b[1m7s\u001b[0m 22ms/step - loss: 0.8864 - val_loss: 0.9143\n",
      "Epoch 31/50\n",
      "\u001b[1m336/336\u001b[0m \u001b[32m━━━━━━━━━━━━━━━━━━━━\u001b[0m\u001b[37m\u001b[0m \u001b[1m7s\u001b[0m 22ms/step - loss: 0.8710 - val_loss: 0.9110\n",
      "Epoch 32/50\n",
      "\u001b[1m336/336\u001b[0m \u001b[32m━━━━━━━━━━━━━━━━━━━━\u001b[0m\u001b[37m\u001b[0m \u001b[1m7s\u001b[0m 22ms/step - loss: 0.8847 - val_loss: 0.9075\n",
      "Epoch 33/50\n",
      "\u001b[1m336/336\u001b[0m \u001b[32m━━━━━━━━━━━━━━━━━━━━\u001b[0m\u001b[37m\u001b[0m \u001b[1m7s\u001b[0m 22ms/step - loss: 0.8710 - val_loss: 0.9038\n",
      "Epoch 34/50\n",
      "\u001b[1m336/336\u001b[0m \u001b[32m━━━━━━━━━━━━━━━━━━━━\u001b[0m\u001b[37m\u001b[0m \u001b[1m8s\u001b[0m 23ms/step - loss: 0.8739 - val_loss: 0.9011\n",
      "Epoch 35/50\n",
      "\u001b[1m336/336\u001b[0m \u001b[32m━━━━━━━━━━━━━━━━━━━━\u001b[0m\u001b[37m\u001b[0m \u001b[1m8s\u001b[0m 22ms/step - loss: 0.8876 - val_loss: 0.8974\n",
      "Epoch 36/50\n",
      "\u001b[1m336/336\u001b[0m \u001b[32m━━━━━━━━━━━━━━━━━━━━\u001b[0m\u001b[37m\u001b[0m \u001b[1m8s\u001b[0m 23ms/step - loss: 0.8579 - val_loss: 0.8938\n",
      "Epoch 37/50\n",
      "\u001b[1m336/336\u001b[0m \u001b[32m━━━━━━━━━━━━━━━━━━━━\u001b[0m\u001b[37m\u001b[0m \u001b[1m8s\u001b[0m 22ms/step - loss: 0.8672 - val_loss: 0.8900\n",
      "Epoch 38/50\n",
      "\u001b[1m336/336\u001b[0m \u001b[32m━━━━━━━━━━━━━━━━━━━━\u001b[0m\u001b[37m\u001b[0m \u001b[1m8s\u001b[0m 22ms/step - loss: 0.8599 - val_loss: 0.8861\n",
      "Epoch 39/50\n",
      "\u001b[1m336/336\u001b[0m \u001b[32m━━━━━━━━━━━━━━━━━━━━\u001b[0m\u001b[37m\u001b[0m \u001b[1m7s\u001b[0m 22ms/step - loss: 0.8669 - val_loss: 0.8831\n",
      "Epoch 40/50\n",
      "\u001b[1m336/336\u001b[0m \u001b[32m━━━━━━━━━━━━━━━━━━━━\u001b[0m\u001b[37m\u001b[0m \u001b[1m7s\u001b[0m 22ms/step - loss: 0.8565 - val_loss: 0.8806\n",
      "Epoch 41/50\n",
      "\u001b[1m336/336\u001b[0m \u001b[32m━━━━━━━━━━━━━━━━━━━━\u001b[0m\u001b[37m\u001b[0m \u001b[1m7s\u001b[0m 22ms/step - loss: 0.8496 - val_loss: 0.8783\n",
      "Epoch 42/50\n",
      "\u001b[1m336/336\u001b[0m \u001b[32m━━━━━━━━━━━━━━━━━━━━\u001b[0m\u001b[37m\u001b[0m \u001b[1m8s\u001b[0m 23ms/step - loss: 0.8673 - val_loss: 0.8754\n",
      "Epoch 43/50\n",
      "\u001b[1m336/336\u001b[0m \u001b[32m━━━━━━━━━━━━━━━━━━━━\u001b[0m\u001b[37m\u001b[0m \u001b[1m8s\u001b[0m 23ms/step - loss: 0.8476 - val_loss: 0.8732\n",
      "Epoch 44/50\n",
      "\u001b[1m336/336\u001b[0m \u001b[32m━━━━━━━━━━━━━━━━━━━━\u001b[0m\u001b[37m\u001b[0m \u001b[1m7s\u001b[0m 22ms/step - loss: 0.8423 - val_loss: 0.8709\n",
      "Epoch 45/50\n",
      "\u001b[1m336/336\u001b[0m \u001b[32m━━━━━━━━━━━━━━━━━━━━\u001b[0m\u001b[37m\u001b[0m \u001b[1m8s\u001b[0m 23ms/step - loss: 0.8587 - val_loss: 0.8684\n",
      "Epoch 46/50\n",
      "\u001b[1m336/336\u001b[0m \u001b[32m━━━━━━━━━━━━━━━━━━━━\u001b[0m\u001b[37m\u001b[0m \u001b[1m8s\u001b[0m 22ms/step - loss: 0.8365 - val_loss: 0.8665\n",
      "Epoch 47/50\n",
      "\u001b[1m336/336\u001b[0m \u001b[32m━━━━━━━━━━━━━━━━━━━━\u001b[0m\u001b[37m\u001b[0m \u001b[1m8s\u001b[0m 22ms/step - loss: 0.8571 - val_loss: 0.8644\n",
      "Epoch 48/50\n",
      "\u001b[1m336/336\u001b[0m \u001b[32m━━━━━━━━━━━━━━━━━━━━\u001b[0m\u001b[37m\u001b[0m \u001b[1m8s\u001b[0m 22ms/step - loss: 0.8391 - val_loss: 0.8625\n",
      "Epoch 49/50\n",
      "\u001b[1m336/336\u001b[0m \u001b[32m━━━━━━━━━━━━━━━━━━━━\u001b[0m\u001b[37m\u001b[0m \u001b[1m7s\u001b[0m 22ms/step - loss: 0.8340 - val_loss: 0.8603\n",
      "Epoch 50/50\n",
      "\u001b[1m336/336\u001b[0m \u001b[32m━━━━━━━━━━━━━━━━━━━━\u001b[0m\u001b[37m\u001b[0m \u001b[1m8s\u001b[0m 23ms/step - loss: 0.8285 - val_loss: 0.8577\n"
     ]
    }
   ],
   "source": [
    "from keras.callbacks import EarlyStopping\n",
    "\n",
    "early_stopping = EarlyStopping(monitor='val_loss', patience=10, restore_best_weights=True)\n",
    "\n",
    "history = autoencoder.fit(\n",
    "    X_train, X_train,\n",
    "    epochs=50,\n",
    "    batch_size=16,\n",
    "    shuffle=True,\n",
    "    validation_split=0.2,\n",
    "    callbacks=[ModelCheckpoint(\"autoencoder.keras\", save_best_only=True), early_stopping]\n",
    ")"
   ]
  },
  {
   "cell_type": "code",
   "execution_count": 15,
   "metadata": {},
   "outputs": [
    {
     "name": "stdout",
     "output_type": "stream",
     "text": [
      "\u001b[1m210/210\u001b[0m \u001b[32m━━━━━━━━━━━━━━━━━━━━\u001b[0m\u001b[37m\u001b[0m \u001b[1m1s\u001b[0m 4ms/step\n",
      "\u001b[1m210/210\u001b[0m \u001b[32m━━━━━━━━━━━━━━━━━━━━\u001b[0m\u001b[37m\u001b[0m \u001b[1m1s\u001b[0m 4ms/step\n",
      "Conv1 Energy for Healthy Samples: [ 61175.723  90974.83  169104.52  ...  92133.195 325049.34   47419.035]\n",
      "Conv1 Energy for Diseased Samples: [361756.7    36072.863  36134.914 ...  95680.08   23833.531  42743.117]\n",
      "Conv2 Energy for Healthy Samples: [1235.7336 1076.1898 2066.8242 ... 1768.4573 4868.634   632.2737]\n",
      "Conv2 Energy for Diseased Samples: [4964.5654   748.7202   537.28186 ... 1806.9401   435.9173   701.3356 ]\n"
     ]
    }
   ],
   "source": [
    "conv1_layer_model = Model(inputs=autoencoder.input, outputs=autoencoder.get_layer('conv1d').output)\n",
    "conv2_layer_model = Model(inputs=autoencoder.input, outputs=autoencoder.get_layer('conv1d_1').output)\n",
    "\n",
    "conv1_outputs = conv1_layer_model.predict(X_train)\n",
    "conv2_outputs = conv2_layer_model.predict(X_train)\n",
    "\n",
    "def calculate_energy(conv_outputs):\n",
    "    return np.sum(np.square(conv_outputs), axis=(1, 2))\n",
    "\n",
    "healthy_indices = np.where(Y_train == 0)[0]\n",
    "diseased_indices = np.where(Y_train == 1)[0]\n",
    "\n",
    "energy_conv1_healthy = calculate_energy(conv1_outputs[healthy_indices])\n",
    "energy_conv1_diseased = calculate_energy(conv1_outputs[diseased_indices])\n",
    "\n",
    "energy_conv2_healthy = calculate_energy(conv2_outputs[healthy_indices])\n",
    "energy_conv2_diseased = calculate_energy(conv2_outputs[diseased_indices])\n",
    "\n",
    "print(\"Conv1 Energy for Healthy Samples:\", energy_conv1_healthy)\n",
    "print(\"Conv1 Energy for Diseased Samples:\", energy_conv1_diseased)\n",
    "print(\"Conv2 Energy for Healthy Samples:\", energy_conv2_healthy)\n",
    "print(\"Conv2 Energy for Diseased Samples:\", energy_conv2_diseased)"
   ]
  },
  {
   "cell_type": "code",
   "execution_count": 16,
   "metadata": {
    "colab": {
     "base_uri": "https://localhost:8080/"
    },
    "id": "vMYIFEwiAiVM",
    "outputId": "f6d99e2d-e4e9-410d-d0f9-5b4a9e5c0064"
   },
   "outputs": [
    {
     "name": "stdout",
     "output_type": "stream",
     "text": [
      "\u001b[1m210/210\u001b[0m \u001b[32m━━━━━━━━━━━━━━━━━━━━\u001b[0m\u001b[37m\u001b[0m \u001b[1m3s\u001b[0m 11ms/step\n",
      "\u001b[1m53/53\u001b[0m \u001b[32m━━━━━━━━━━━━━━━━━━━━\u001b[0m\u001b[37m\u001b[0m \u001b[1m0s\u001b[0m 8ms/step\n"
     ]
    },
    {
     "data": {
      "text/plain": [
       "(13424, 65, 1024)"
      ]
     },
     "execution_count": 16,
     "metadata": {},
     "output_type": "execute_result"
    }
   ],
   "source": [
    "X_train_extra = autoencoder.predict(X_train)\n",
    "X_test_extra = autoencoder.predict(X_test)\n",
    "\n",
    "X_train_extra = np.concatenate((X_train, X_train_extra), axis=0)\n",
    "X_test_extra = np.concatenate((X_test, X_test_extra), axis=0)\n",
    "Y_train_extra = np.concatenate((Y_train, Y_train), axis=0)\n",
    "Y_test_extra = np.concatenate((Y_test, Y_test), axis=0)\n",
    "X_train_extra.shape"
   ]
  },
  {
   "cell_type": "code",
   "execution_count": 11,
   "metadata": {
    "colab": {
     "base_uri": "https://localhost:8080/"
    },
    "id": "J4Kk1vsbyDcy",
    "outputId": "d44a2c06-9000-400a-f8e2-58dd76b0432c"
   },
   "outputs": [
    {
     "name": "stdout",
     "output_type": "stream",
     "text": [
      "\u001b[1m377/377\u001b[0m \u001b[32m━━━━━━━━━━━━━━━━━━━━\u001b[0m\u001b[37m\u001b[0m \u001b[1m3s\u001b[0m 6ms/step\n",
      "\u001b[1m95/95\u001b[0m \u001b[32m━━━━━━━━━━━━━━━━━━━━\u001b[0m\u001b[37m\u001b[0m \u001b[1m0s\u001b[0m 4ms/step\n"
     ]
    }
   ],
   "source": [
    "encoder = Model(inputs=autoencoder.input, outputs=autoencoder.get_layer('dense').output)\n",
    "\n",
    "encoded_features = encoder.predict(X_train_extra)\n",
    "encoded_features_test = encoder.predict(X_test_extra)"
   ]
  },
  {
   "cell_type": "code",
   "execution_count": 12,
   "metadata": {
    "colab": {
     "base_uri": "https://localhost:8080/"
    },
    "id": "QSixlGQ6yN1B",
    "outputId": "53244bc1-66c6-4b28-f6c6-aa6cd87d5479"
   },
   "outputs": [],
   "source": [
    "encoded_features = torch.tensor(encoded_features).float()\n",
    "labels = torch.tensor(Y_train_extra).long()\n",
    "encoded_features_test = torch.tensor(encoded_features_test).float()\n",
    "labels_test = torch.tensor(Y_test_extra).long()"
   ]
  },
  {
   "cell_type": "code",
   "execution_count": 13,
   "metadata": {
    "id": "cA9Mb3etyOcZ"
   },
   "outputs": [],
   "source": [
    "class SincConv(nn.Module):\n",
    "    def __init__(self, in_channels, out_channels, kernel_size):\n",
    "        super(SincConv, self).__init__()\n",
    "        self.conv = nn.Conv1d(in_channels, out_channels, kernel_size, padding=kernel_size // 2)\n",
    "\n",
    "    def forward(self, x):\n",
    "        x = self.conv(x)\n",
    "        return x\n",
    "\n",
    "class SincNet(nn.Module):\n",
    "    def __init__(self, input_dim, num_classes=2, dropout_p=0.6):\n",
    "        super(SincNet, self).__init__()\n",
    "        self.sinc_conv = SincConv(in_channels=1, out_channels=64, kernel_size=3)  # Increased number of channels\n",
    "\n",
    "        self.fc1 = nn.Linear(input_dim * 64, 64)  # Increased dimensions\n",
    "        self.fc2 = nn.Linear(64, num_classes)\n",
    "        self.dropout = nn.Dropout(dropout_p)\n",
    "        self.relu = nn.ReLU()\n",
    "        self.batch_norm = nn.BatchNorm1d(64)\n",
    "\n",
    "    def forward(self, x):\n",
    "        x = x.unsqueeze(1)\n",
    "        x = self.sinc_conv(x)\n",
    "        x = x.view(x.size(0), -1)\n",
    "        x = self.fc1(x)\n",
    "        x = self.batch_norm(x)\n",
    "        x = self.relu(x)\n",
    "        x = self.dropout(x)\n",
    "        x = self.fc2(x)\n",
    "        return x"
   ]
  },
  {
   "cell_type": "code",
   "execution_count": 14,
   "metadata": {
    "id": "NIkOAtU91-a0"
   },
   "outputs": [],
   "source": [
    "import torch.optim as optim\n",
    "input_dim = encoded_features.shape[1]\n",
    "sincnet = SincNet(input_dim=input_dim)\n",
    "\n",
    "criterion = nn.CrossEntropyLoss()\n",
    "optimizer = optim.Adam(sincnet.parameters(), lr=0.00001)"
   ]
  },
  {
   "cell_type": "code",
   "execution_count": 15,
   "metadata": {
    "colab": {
     "base_uri": "https://localhost:8080/"
    },
    "id": "IcyiEnvAyTZP",
    "outputId": "f7b19c42-faf3-4c4a-c74b-5667f53a622e"
   },
   "outputs": [
    {
     "name": "stdout",
     "output_type": "stream",
     "text": [
      "Epoch [1/100], Loss: 0.6754, Accuracy: 0.6038\n",
      "Epoch [2/100], Loss: 0.6028, Accuracy: 0.6919\n",
      "Epoch [3/100], Loss: 0.5421, Accuracy: 0.7667\n",
      "Epoch [4/100], Loss: 0.4950, Accuracy: 0.8132\n",
      "Epoch [5/100], Loss: 0.4581, Accuracy: 0.8493\n",
      "Epoch [6/100], Loss: 0.4236, Accuracy: 0.8696\n",
      "Epoch [7/100], Loss: 0.3977, Accuracy: 0.8835\n",
      "Epoch [8/100], Loss: 0.3739, Accuracy: 0.8930\n",
      "Epoch [9/100], Loss: 0.3552, Accuracy: 0.9005\n",
      "Epoch [10/100], Loss: 0.3381, Accuracy: 0.9041\n",
      "Epoch [11/100], Loss: 0.3231, Accuracy: 0.9100\n",
      "Epoch [12/100], Loss: 0.3101, Accuracy: 0.9123\n",
      "Epoch [13/100], Loss: 0.3049, Accuracy: 0.9132\n",
      "Epoch [14/100], Loss: 0.2926, Accuracy: 0.9160\n",
      "Epoch [15/100], Loss: 0.2854, Accuracy: 0.9161\n",
      "Epoch [16/100], Loss: 0.2764, Accuracy: 0.9186\n",
      "Epoch [17/100], Loss: 0.2711, Accuracy: 0.9180\n",
      "Epoch [18/100], Loss: 0.2702, Accuracy: 0.9183\n",
      "Epoch [19/100], Loss: 0.2613, Accuracy: 0.9196\n",
      "Epoch [20/100], Loss: 0.2629, Accuracy: 0.9209\n",
      "Epoch [21/100], Loss: 0.2550, Accuracy: 0.9198\n",
      "Epoch [22/100], Loss: 0.2527, Accuracy: 0.9198\n",
      "Epoch [23/100], Loss: 0.2490, Accuracy: 0.9210\n",
      "Epoch [24/100], Loss: 0.2474, Accuracy: 0.9196\n",
      "Epoch [25/100], Loss: 0.2425, Accuracy: 0.9200\n",
      "Epoch [26/100], Loss: 0.2432, Accuracy: 0.9207\n",
      "Epoch [27/100], Loss: 0.2394, Accuracy: 0.9203\n",
      "Epoch [28/100], Loss: 0.2402, Accuracy: 0.9202\n",
      "Epoch [29/100], Loss: 0.2381, Accuracy: 0.9208\n",
      "Epoch [30/100], Loss: 0.2372, Accuracy: 0.9206\n",
      "Epoch [31/100], Loss: 0.2357, Accuracy: 0.9203\n",
      "Epoch [32/100], Loss: 0.2376, Accuracy: 0.9203\n",
      "Epoch [33/100], Loss: 0.2324, Accuracy: 0.9212\n",
      "Epoch [34/100], Loss: 0.2338, Accuracy: 0.9203\n",
      "Epoch [35/100], Loss: 0.2316, Accuracy: 0.9209\n",
      "Epoch [36/100], Loss: 0.2320, Accuracy: 0.9201\n",
      "Epoch [37/100], Loss: 0.2287, Accuracy: 0.9207\n",
      "Epoch [38/100], Loss: 0.2313, Accuracy: 0.9203\n",
      "Epoch [39/100], Loss: 0.2308, Accuracy: 0.9208\n",
      "Epoch [40/100], Loss: 0.2286, Accuracy: 0.9204\n",
      "Epoch [41/100], Loss: 0.2254, Accuracy: 0.9207\n",
      "Epoch [42/100], Loss: 0.2264, Accuracy: 0.9207\n",
      "Epoch [43/100], Loss: 0.2271, Accuracy: 0.9214\n",
      "Epoch [44/100], Loss: 0.2260, Accuracy: 0.9208\n",
      "Epoch [45/100], Loss: 0.2273, Accuracy: 0.9208\n",
      "Epoch [46/100], Loss: 0.2258, Accuracy: 0.9214\n",
      "Epoch [47/100], Loss: 0.2273, Accuracy: 0.9204\n",
      "Epoch [48/100], Loss: 0.2248, Accuracy: 0.9216\n",
      "Epoch [49/100], Loss: 0.2224, Accuracy: 0.9214\n",
      "Epoch [50/100], Loss: 0.2215, Accuracy: 0.9216\n",
      "Epoch [51/100], Loss: 0.2229, Accuracy: 0.9199\n",
      "Epoch [52/100], Loss: 0.2245, Accuracy: 0.9211\n",
      "Epoch [53/100], Loss: 0.2223, Accuracy: 0.9213\n",
      "Epoch [54/100], Loss: 0.2214, Accuracy: 0.9212\n",
      "Epoch [55/100], Loss: 0.2225, Accuracy: 0.9212\n",
      "Epoch [56/100], Loss: 0.2215, Accuracy: 0.9209\n",
      "Epoch [57/100], Loss: 0.2186, Accuracy: 0.9212\n",
      "Epoch [58/100], Loss: 0.2193, Accuracy: 0.9212\n",
      "Epoch [59/100], Loss: 0.2223, Accuracy: 0.9206\n",
      "Epoch [60/100], Loss: 0.2170, Accuracy: 0.9212\n",
      "Epoch [61/100], Loss: 0.2158, Accuracy: 0.9212\n",
      "Epoch [62/100], Loss: 0.2187, Accuracy: 0.9214\n",
      "Epoch [63/100], Loss: 0.2189, Accuracy: 0.9217\n",
      "Epoch [64/100], Loss: 0.2181, Accuracy: 0.9217\n",
      "Epoch [65/100], Loss: 0.2147, Accuracy: 0.9222\n",
      "Epoch [66/100], Loss: 0.2146, Accuracy: 0.9220\n",
      "Epoch [67/100], Loss: 0.2175, Accuracy: 0.9215\n",
      "Epoch [68/100], Loss: 0.2142, Accuracy: 0.9224\n",
      "Epoch [69/100], Loss: 0.2155, Accuracy: 0.9208\n",
      "Epoch [70/100], Loss: 0.2162, Accuracy: 0.9208\n",
      "Epoch [71/100], Loss: 0.2175, Accuracy: 0.9222\n",
      "Epoch [72/100], Loss: 0.2163, Accuracy: 0.9222\n",
      "Epoch [73/100], Loss: 0.2154, Accuracy: 0.9217\n",
      "Epoch [74/100], Loss: 0.2135, Accuracy: 0.9226\n",
      "Epoch [75/100], Loss: 0.2131, Accuracy: 0.9224\n",
      "Epoch [76/100], Loss: 0.2138, Accuracy: 0.9215\n",
      "Epoch [77/100], Loss: 0.2138, Accuracy: 0.9219\n",
      "Epoch [78/100], Loss: 0.2163, Accuracy: 0.9218\n",
      "Epoch [79/100], Loss: 0.2137, Accuracy: 0.9212\n",
      "Epoch [80/100], Loss: 0.2153, Accuracy: 0.9225\n",
      "Epoch [81/100], Loss: 0.2131, Accuracy: 0.9228\n",
      "Epoch [82/100], Loss: 0.2145, Accuracy: 0.9226\n",
      "Epoch [83/100], Loss: 0.2105, Accuracy: 0.9226\n",
      "Epoch [84/100], Loss: 0.2136, Accuracy: 0.9225\n",
      "Epoch [85/100], Loss: 0.2125, Accuracy: 0.9218\n",
      "Epoch [86/100], Loss: 0.2115, Accuracy: 0.9227\n",
      "Epoch [87/100], Loss: 0.2077, Accuracy: 0.9234\n",
      "Epoch [88/100], Loss: 0.2085, Accuracy: 0.9229\n",
      "Epoch [89/100], Loss: 0.2124, Accuracy: 0.9221\n",
      "Epoch [90/100], Loss: 0.2109, Accuracy: 0.9226\n",
      "Epoch [91/100], Loss: 0.2131, Accuracy: 0.9227\n",
      "Epoch [92/100], Loss: 0.2140, Accuracy: 0.9224\n",
      "Epoch [93/100], Loss: 0.2073, Accuracy: 0.9236\n",
      "Epoch [94/100], Loss: 0.2098, Accuracy: 0.9220\n",
      "Epoch [95/100], Loss: 0.2100, Accuracy: 0.9233\n",
      "Epoch [96/100], Loss: 0.2101, Accuracy: 0.9237\n",
      "Epoch [97/100], Loss: 0.2116, Accuracy: 0.9225\n",
      "Epoch [98/100], Loss: 0.2089, Accuracy: 0.9234\n",
      "Epoch [99/100], Loss: 0.2094, Accuracy: 0.9232\n",
      "Epoch [100/100], Loss: 0.2083, Accuracy: 0.9227\n"
     ]
    }
   ],
   "source": [
    "dataset = TensorDataset(encoded_features, labels)\n",
    "dataloader = DataLoader(dataset, batch_size=32, shuffle=True)\n",
    "\n",
    "num_epochs = 100\n",
    "losses = []\n",
    "accuracies = []\n",
    "\n",
    "for epoch in range(num_epochs):\n",
    "    sincnet.train()\n",
    "    running_loss = 0.0\n",
    "    correct_preds = 0\n",
    "    total_preds = 0\n",
    "\n",
    "    for inputs, targets in dataloader:\n",
    "        optimizer.zero_grad()\n",
    "\n",
    "        outputs = sincnet(inputs)\n",
    "\n",
    "        loss = criterion(outputs, targets)\n",
    "        running_loss += loss.item()\n",
    "\n",
    "        loss.backward()\n",
    "        optimizer.step()\n",
    "        _, predicted = torch.max(outputs, 1)\n",
    "        total_preds += targets.size(0)\n",
    "        correct_preds += (predicted == targets).sum().item()\n",
    "\n",
    "    avg_loss = running_loss / len(dataloader)\n",
    "    accuracy = correct_preds / total_preds\n",
    "    losses.append(avg_loss)\n",
    "    accuracies.append(accuracy)\n",
    "\n",
    "    print(f\"Epoch [{epoch+1}/{num_epochs}], Loss: {avg_loss:.4f}, Accuracy: {accuracy:.4f}\")"
   ]
  },
  {
   "cell_type": "code",
   "execution_count": 16,
   "metadata": {
    "colab": {
     "base_uri": "https://localhost:8080/",
     "height": 507
    },
    "id": "7w6l-X9N1GNq",
    "outputId": "0da58873-2442-4781-9a45-bb9959d9bc39"
   },
   "outputs": [
    {
     "data": {
      "image/png": "[encoded data removed]",
      "text/plain": [
       "<Figure size 1200x500 with 2 Axes>"
      ]
     },
     "metadata": {},
     "output_type": "display_data"
    }
   ],
   "source": [
    "# Plot the loss and accuracy\n",
    "plt.figure(figsize=(12, 5))\n",
    "\n",
    "# Plot loss\n",
    "plt.subplot(1, 2, 1)\n",
    "plt.plot(range(1, num_epochs + 1), losses, marker='o', color='b')\n",
    "plt.title('Loss Over Epochs')\n",
    "plt.xlabel('Epoch')\n",
    "plt.ylabel('Loss')\n",
    "\n",
    "# Plot accuracy\n",
    "plt.subplot(1, 2, 2)\n",
    "plt.plot(range(1, num_epochs + 1), accuracies, marker='o', color='g')\n",
    "plt.title('Accuracy Over Epochs')\n",
    "plt.xlabel('Epoch')\n",
    "plt.ylabel('Accuracy')\n",
    "\n",
    "plt.tight_layout()\n",
    "plt.show()"
   ]
  },
  {
   "cell_type": "code",
   "execution_count": 17,
   "metadata": {
    "colab": {
     "base_uri": "https://localhost:8080/"
    },
    "id": "Fmwy_qSH2SKY",
    "outputId": "be56b95d-8bde-4afd-9a1c-378979cd21c2"
   },
   "outputs": [
    {
     "name": "stdout",
     "output_type": "stream",
     "text": [
      "Final Model Accuracy: 0.9256\n"
     ]
    }
   ],
   "source": [
    "from sklearn.metrics import accuracy_score\n",
    "# Evaluate the final model\n",
    "sincnet.eval()\n",
    "with torch.no_grad():\n",
    "    outputs_test = sincnet(encoded_features_test)\n",
    "    _, predicted_test = torch.max(outputs_test, 1)\n",
    "    accuracy_test = accuracy_score(labels_test.numpy(), predicted_test.numpy())\n",
    "    print(f'Final Model Accuracy: {accuracy_test:.4f}')"
   ]
  },
  {
   "cell_type": "code",
   "execution_count": 20,
   "metadata": {
    "id": "AAGtpoavXfM9"
   },
   "outputs": [],
   "source": [
    "# pretrain\n",
    "pretrain_size = int(0.1 * X_train_extra.shape[0])  # 10% of the training data\n",
    "\n",
    "X_train_pretrain = X_train_extra[:pretrain_size]\n",
    "Y_train_pretrain = Y_train_extra[:pretrain_size]\n",
    "\n",
    "# fine-tuning\n",
    "X_train_extra = X_train_extra[pretrain_size:]\n",
    "Y_train_extra = Y_train_extra[pretrain_size:]"
   ]
  },
  {
   "cell_type": "code",
   "execution_count": 21,
   "metadata": {
    "colab": {
     "base_uri": "https://localhost:8080/"
    },
    "id": "wiK1kVSrXmIk",
    "outputId": "71ed5e3c-df9b-4615-d4da-72782a08abd5"
   },
   "outputs": [
    {
     "name": "stdout",
     "output_type": "stream",
     "text": [
      "\u001b[1m34/34\u001b[0m \u001b[32m━━━━━━━━━━━━━━━━━━━━\u001b[0m\u001b[37m\u001b[0m \u001b[1m0s\u001b[0m 5ms/step\n",
      "\u001b[1m305/305\u001b[0m \u001b[32m━━━━━━━━━━━━━━━━━━━━\u001b[0m\u001b[37m\u001b[0m \u001b[1m1s\u001b[0m 4ms/step\n",
      "\u001b[1m95/95\u001b[0m \u001b[32m━━━━━━━━━━━━━━━━━━━━\u001b[0m\u001b[37m\u001b[0m \u001b[1m0s\u001b[0m 3ms/step\n"
     ]
    }
   ],
   "source": [
    "encoder = Model(inputs=autoencoder.input, outputs=autoencoder.get_layer('dense').output)\n",
    "\n",
    "encoded_features_pretrain = encoder.predict(X_train_pretrain)\n",
    "encoded_features = encoder.predict(X_train_extra)\n",
    "encoded_features_test = encoder.predict(X_test_extra)\n",
    "\n",
    "encoded_features_pretrain = torch.tensor(encoded_features_pretrain).float()\n",
    "encoded_features = torch.tensor(encoded_features).float()\n",
    "encoded_features_test = torch.tensor(encoded_features_test).float()\n",
    "\n",
    "labels_pretrain = torch.tensor(Y_train_pretrain).long()\n",
    "labels = torch.tensor(Y_train_extra).long()\n",
    "labels_test = torch.tensor(Y_test_extra).long()"
   ]
  },
  {
   "cell_type": "code",
   "execution_count": 22,
   "metadata": {
    "id": "0U9tBeqoX65t"
   },
   "outputs": [],
   "source": [
    "import torch.nn as nn\n",
    "\n",
    "class SincConv(nn.Module):\n",
    "    def __init__(self, in_channels, out_channels, kernel_size):\n",
    "        super(SincConv, self).__init__()\n",
    "        self.conv = nn.Conv1d(in_channels, out_channels, kernel_size, padding=kernel_size // 2)\n",
    "\n",
    "    def forward(self, x):\n",
    "        x = self.conv(x)\n",
    "        return x\n",
    "\n",
    "class SincNet(nn.Module):\n",
    "    def __init__(self, input_dim, num_classes=2, dropout_p=0.6):\n",
    "        super(SincNet, self).__init__()\n",
    "        self.sinc_conv = SincConv(in_channels=1, out_channels=64, kernel_size=3)  # Increased number of channels\n",
    "\n",
    "        self.fc1 = nn.Linear(input_dim * 64, 64)  # Increased dimensions\n",
    "        self.fc2 = nn.Linear(64, num_classes)\n",
    "        self.dropout = nn.Dropout(dropout_p)\n",
    "        self.relu = nn.ReLU()\n",
    "        self.batch_norm = nn.BatchNorm1d(64)\n",
    "\n",
    "    def forward(self, x):\n",
    "        x = x.unsqueeze(1)\n",
    "        x = self.sinc_conv(x)\n",
    "        x = x.view(x.size(0), -1)\n",
    "        x = self.fc1(x)\n",
    "        x = self.batch_norm(x)\n",
    "        x = self.relu(x)\n",
    "        x = self.dropout(x)\n",
    "        x = self.fc2(x)\n",
    "        return x"
   ]
  },
  {
   "cell_type": "code",
   "execution_count": 23,
   "metadata": {
    "id": "NBDel7BaX9zt"
   },
   "outputs": [],
   "source": [
    "input_dim = encoded_features.shape[1]\n",
    "sincnet = SincNet(input_dim=input_dim)\n",
    "\n",
    "criterion = nn.CrossEntropyLoss()\n",
    "optimizer = optim.Adam(sincnet.parameters(), lr=0.0001)\n",
    "\n",
    "pretrain_dataset = TensorDataset(encoded_features_pretrain, labels_pretrain)\n",
    "pretrain_dataloader = DataLoader(pretrain_dataset, batch_size=32, shuffle=True)\n",
    "\n",
    "train_dataset = TensorDataset(encoded_features, labels)\n",
    "train_dataloader = DataLoader(train_dataset, batch_size=32, shuffle=True)\n",
    "\n",
    "num_pretrain_epochs = 10  # Number of pretraining epochs\n",
    "num_finetune_epochs = 20  # Number of fine-tuning epochs"
   ]
  },
  {
   "cell_type": "code",
   "execution_count": 24,
   "metadata": {
    "colab": {
     "base_uri": "https://localhost:8080/"
    },
    "id": "aRu8TBZRYGPQ",
    "outputId": "a04ac32b-d058-4d94-a774-b76465ebe988"
   },
   "outputs": [
    {
     "name": "stdout",
     "output_type": "stream",
     "text": [
      "Pretraining SincNet...\n",
      "Pretrain Epoch [1/10], Loss: 0.8386, Accuracy: 0.4515\n",
      "Pretrain Epoch [2/10], Loss: 0.7564, Accuracy: 0.5042\n",
      "Pretrain Epoch [3/10], Loss: 0.6500, Accuracy: 0.6131\n",
      "Pretrain Epoch [4/10], Loss: 0.6061, Accuracy: 0.6694\n",
      "Pretrain Epoch [5/10], Loss: 0.5697, Accuracy: 0.7175\n",
      "Pretrain Epoch [6/10], Loss: 0.5191, Accuracy: 0.7747\n",
      "Pretrain Epoch [7/10], Loss: 0.4872, Accuracy: 0.7959\n",
      "Pretrain Epoch [8/10], Loss: 0.4486, Accuracy: 0.8236\n",
      "Pretrain Epoch [9/10], Loss: 0.4095, Accuracy: 0.8624\n",
      "Pretrain Epoch [10/10], Loss: 0.4086, Accuracy: 0.8504\n"
     ]
    }
   ],
   "source": [
    "print(\"Pretraining SincNet...\")\n",
    "for epoch in range(num_pretrain_epochs):\n",
    "    sincnet.train()\n",
    "    running_loss = 0.0\n",
    "    correct_preds = 0\n",
    "    total_preds = 0\n",
    "\n",
    "    for inputs, targets in pretrain_dataloader:\n",
    "        optimizer.zero_grad()\n",
    "\n",
    "        outputs = sincnet(inputs)\n",
    "\n",
    "        loss = criterion(outputs, targets)\n",
    "        running_loss += loss.item()\n",
    "\n",
    "        loss.backward()\n",
    "        optimizer.step()\n",
    "\n",
    "        _, predicted = torch.max(outputs, 1)\n",
    "        total_preds += targets.size(0)\n",
    "        correct_preds += (predicted == targets).sum().item()\n",
    "\n",
    "    avg_loss = running_loss / len(pretrain_dataloader)\n",
    "    accuracy = correct_preds / total_preds\n",
    "    print(f\"Pretrain Epoch [{epoch+1}/{num_pretrain_epochs}], Loss: {avg_loss:.4f}, Accuracy: {accuracy:.4f}\")"
   ]
  },
  {
   "cell_type": "code",
   "execution_count": 25,
   "metadata": {
    "colab": {
     "base_uri": "https://localhost:8080/"
    },
    "id": "NnlXGaq3_Loe",
    "outputId": "2e3a6180-1fdc-4126-df62-dc84463c8e89"
   },
   "outputs": [
    {
     "name": "stdout",
     "output_type": "stream",
     "text": [
      "Fine-tuning SincNet...\n",
      "Fine-tune Epoch [1/20], Loss: 0.3709, Accuracy: 0.8938\n",
      "Fine-tune Epoch [2/20], Loss: 0.3073, Accuracy: 0.9148\n",
      "Fine-tune Epoch [3/20], Loss: 0.2796, Accuracy: 0.9179\n",
      "Fine-tune Epoch [4/20], Loss: 0.2772, Accuracy: 0.9196\n",
      "Fine-tune Epoch [5/20], Loss: 0.2683, Accuracy: 0.9200\n",
      "Fine-tune Epoch [6/20], Loss: 0.2645, Accuracy: 0.9207\n",
      "Fine-tune Epoch [7/20], Loss: 0.2555, Accuracy: 0.9202\n",
      "Fine-tune Epoch [8/20], Loss: 0.2529, Accuracy: 0.9205\n",
      "Fine-tune Epoch [9/20], Loss: 0.2524, Accuracy: 0.9202\n",
      "Fine-tune Epoch [10/20], Loss: 0.2516, Accuracy: 0.9205\n",
      "Fine-tune Epoch [11/20], Loss: 0.2470, Accuracy: 0.9204\n",
      "Fine-tune Epoch [12/20], Loss: 0.2430, Accuracy: 0.9205\n",
      "Fine-tune Epoch [13/20], Loss: 0.2464, Accuracy: 0.9204\n",
      "Fine-tune Epoch [14/20], Loss: 0.2431, Accuracy: 0.9209\n",
      "Fine-tune Epoch [15/20], Loss: 0.2423, Accuracy: 0.9207\n",
      "Fine-tune Epoch [16/20], Loss: 0.2372, Accuracy: 0.9203\n",
      "Fine-tune Epoch [17/20], Loss: 0.2352, Accuracy: 0.9207\n",
      "Fine-tune Epoch [18/20], Loss: 0.2370, Accuracy: 0.9202\n",
      "Fine-tune Epoch [19/20], Loss: 0.2359, Accuracy: 0.9211\n",
      "Fine-tune Epoch [20/20], Loss: 0.2356, Accuracy: 0.9206\n"
     ]
    }
   ],
   "source": [
    "print(\"Fine-tuning SincNet...\")\n",
    "losses = []\n",
    "accuracies = []\n",
    "for epoch in range(num_finetune_epochs):\n",
    "    sincnet.train()\n",
    "    running_loss = 0.0\n",
    "    correct_preds = 0\n",
    "    total_preds = 0\n",
    "\n",
    "    for inputs, targets in train_dataloader:\n",
    "        optimizer.zero_grad()\n",
    "\n",
    "        outputs = sincnet(inputs)\n",
    "\n",
    "        loss = criterion(outputs, targets)\n",
    "        running_loss += loss.item()\n",
    "\n",
    "        loss.backward()\n",
    "        optimizer.step()\n",
    "\n",
    "        _, predicted = torch.max(outputs, 1)\n",
    "        total_preds += targets.size(0)\n",
    "        correct_preds += (predicted == targets).sum().item()\n",
    "\n",
    "    avg_loss = running_loss / len(train_dataloader)\n",
    "    accuracy = correct_preds / total_preds\n",
    "    losses.append(avg_loss)\n",
    "    accuracies.append(accuracy)\n",
    "\n",
    "    print(f\"Fine-tune Epoch [{epoch+1}/{num_finetune_epochs}], Loss: {avg_loss:.4f}, Accuracy: {accuracy:.4f}\")"
   ]
  },
  {
   "cell_type": "code",
   "execution_count": 26,
   "metadata": {
    "colab": {
     "base_uri": "https://localhost:8080/"
    },
    "id": "F-PvJ9FcYP2Y",
    "outputId": "b0c43fc8-9d65-47db-d513-2bd2a453754c"
   },
   "outputs": [
    {
     "name": "stdout",
     "output_type": "stream",
     "text": [
      "Final Model Accuracy: 0.9256\n"
     ]
    }
   ],
   "source": [
    "# Evaluate final model\n",
    "sincnet.eval()\n",
    "with torch.no_grad():\n",
    "    outputs_test = sincnet(encoded_features_test)\n",
    "    _, predicted_test = torch.max(outputs_test, 1)\n",
    "    accuracy_test = accuracy_score(labels_test.numpy(), predicted_test.numpy())\n",
    "    print(f'Final Model Accuracy: {accuracy_test:.4f}')"
   ]
  },
  {
   "cell_type": "code",
   "execution_count": 27,
   "metadata": {
    "colab": {
     "base_uri": "https://localhost:8080/",
     "height": 507
    },
    "id": "CsK5ou0hW4dr",
    "outputId": "2f9e0771-6c1a-49bc-de37-86eba2c7609b"
   },
   "outputs": [
    {
     "data": {
      "image/png": "[encoded data removed]",
      "text/plain": [
       "<Figure size 1200x500 with 2 Axes>"
      ]
     },
     "metadata": {},
     "output_type": "display_data"
    }
   ],
   "source": [
    "plt.figure(figsize=(12, 5))\n",
    "\n",
    "# Plot loss\n",
    "plt.subplot(1, 2, 1)\n",
    "plt.plot(range(1, num_finetune_epochs + 1), losses, marker='o', color='b')\n",
    "plt.title('Loss Over Epochs')\n",
    "plt.xlabel('Epoch')\n",
    "plt.ylabel('Loss')\n",
    "\n",
    "# Plot accuracy\n",
    "plt.subplot(1, 2, 2)\n",
    "plt.plot(range(1, num_finetune_epochs + 1), accuracies, marker='o', color='g')\n",
    "plt.title('Accuracy Over Epochs')\n",
    "plt.xlabel('Epoch')\n",
    "plt.ylabel('Accuracy')\n",
    "\n",
    "plt.tight_layout()\n",
    "plt.show()"
   ]
  },
  {
   "cell_type": "code",
   "execution_count": null,
   "metadata": {
    "id": "lwGqvU3pN4oN"
   },
   "outputs": [],
   "source": []
  }
 ],
 "metadata": {
  "colab": {
   "provenance": []
  },
  "kernelspec": {
   "display_name": "Python 3 (ipykernel)",
   "language": "python",
   "name": "python3"
  },
  "language_info": {
   "codemirror_mode": {
    "name": "ipython",
    "version": 3
   },
   "file_extension": ".py",
   "mimetype": "text/x-python",
   "name": "python",
   "nbconvert_exporter": "python",
   "pygments_lexer": "ipython3",
   "version": "3.12.0"
  }
 },
 "nbformat": 4,
 "nbformat_minor": 4
}
